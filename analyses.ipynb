{
 "cells": [
  {
   "cell_type": "markdown",
   "metadata": {},
   "source": [
    "# Information de notebook"
   ]
  },
  {
   "cell_type": "markdown",
   "metadata": {},
   "source": [
    "# I - Importations"
   ]
  },
  {
   "cell_type": "code",
   "execution_count": 1,
   "metadata": {},
   "outputs": [
    {
     "data": {
      "text/plain": [
       "<module 'prepare_files' from 'd:\\\\Formations\\\\Github\\\\Projet_10\\\\prepare_files.py'>"
      ]
     },
     "execution_count": 1,
     "metadata": {},
     "output_type": "execute_result"
    }
   ],
   "source": [
    "import os\n",
    "import pickle\n",
    "import pandas as pd\n",
    "import matplotlib.pyplot as plt\n",
    "import matplotlib.patches as mpatches\n",
    "import seaborn as sns\n",
    "import recommender\n",
    "import prepare_files\n",
    "import importlib\n",
    "\n",
    "importlib.reload(recommender)\n",
    "importlib.reload(prepare_files)"
   ]
  },
  {
   "cell_type": "markdown",
   "metadata": {},
   "source": [
    "# Constantes"
   ]
  },
  {
   "cell_type": "code",
   "execution_count": 2,
   "metadata": {},
   "outputs": [],
   "source": [
    "DATASETS_PATH = \"datasets/\"\n",
    "ARTICLES_EMBEDDINGS_PATH = DATASETS_PATH + \"articles_embeddings.pickle\"\n",
    "ARTICLES_METADATA_PATH = DATASETS_PATH + \"articles_metadata.csv\"\n",
    "CLICKS_PATH = DATASETS_PATH + \"clicks/\"\n",
    "CLICKS_HOUR_CONCATENATED_PATH = DATASETS_PATH + \"clicks_hour_concatenated.csv\"\n",
    "PCA_REDUCTED_ARTICLES_EMBEDDINGS_PATH = DATASETS_PATH + \"pca_reducted_articles_embeddings.pickle\"\n",
    "SVDS_PATH = DATASETS_PATH + \"svds.pickle\"\n",
    "CLICKS_ESSENTIALS_INFORMATIONS_PATH = DATASETS_PATH + \"clicks_essentials_informations.pickle\"\n",
    "MOST_POPULAR_ARTICLES_PATH = DATASETS_PATH + \"most_popular_articles.pickle\""
   ]
  },
  {
   "cell_type": "markdown",
   "metadata": {},
   "source": [
    "# Fonctions"
   ]
  },
  {
   "cell_type": "code",
   "execution_count": 3,
   "metadata": {},
   "outputs": [],
   "source": [
    "def perc_fill_rate(datas: pd.DataFrame)-> float:\n",
    "    \"\"\"Calculer le taux de remplissage\n",
    "    \n",
    "    Parameters:\n",
    "    datas: Dataframe dont le taux de remplissage est à calculer\n",
    "\n",
    "    Returns:\n",
    "    float: taux de remplissage calculé\n",
    "    \"\"\"\n",
    "\n",
    "    return 100 - datas.isna().sum() / len(datas) * 100\n",
    "\n",
    "def make_title(texte:str):\n",
    "    \"\"\"Ecrit tout simplement un ###### texte #####\n",
    "    Cette fonction a été crée pour éviter de répéter les mêmes écritures de print\n",
    "\n",
    "    Parameters:\n",
    "    texte -- Texte à afficher\n",
    "    \"\"\"\n",
    "\n",
    "    print(\"\\n###### \" + texte + \" ######\\n\")\n",
    "\n",
    "def make_plot_dtypes(datas:pd.DataFrame):\n",
    "    \"\"\"Crée un camembert de répartition de types utilisés de la dataframe\n",
    "    \n",
    "    Parameters:\n",
    "    datas: Dataframe dont on veut calculer la répartition des types utilisées\n",
    "    \"\"\"\n",
    "\n",
    "    print(datas.dtypes.value_counts())\n",
    "    plt.figure(figsize=(10,5))\n",
    "    plt.pie(datas.dtypes.value_counts().values,autopct=\"%1.2f%%\",labels=[str(types) for types in datas.dtypes.value_counts().index])\n",
    "    plt.title(\"Répartition des types dans le jeu de données.\")\n",
    "    plt.ylabel(\"Type des données\")\n",
    "    plt.legend()\n",
    "    plt.show()\n",
    "\n",
    "def make_perc_missing_values_info(datas:pd.DataFrame, perc_missing_values_threshold: int = 50) -> sns.barplot:\n",
    "    \"\"\"Fonction qui affiche un diagramme en barres contenant le taux de remplissage pour chaque variable de la dataframe\n",
    "    \n",
    "    Parameters:\n",
    "    datas: Dataframe dont on désire afficher le taux de remplissage sous forme d'un diagramme en barres\n",
    "    perc_missing_values_threshold: Le seuil du pourcentage qui indique si une variable est exploitable ou non (par défaut : 50)\n",
    "    \n",
    "    Returns:\n",
    "    sns.barplot: contient l'objet de barplot\n",
    "    \"\"\"\n",
    "\n",
    "    # Calcul du taux de remplissage\n",
    "    perc_fill_rate_datas = perc_fill_rate(datas)\n",
    "    perc_fill_rate_datas = perc_fill_rate_datas.sort_values(ascending=False)\n",
    "\n",
    "    # Définition de la palette de couleurs en fonction du taux de remplissage\n",
    "    palette = [\"red\" if p < perc_missing_values_threshold else \"orange\" if p < 100 else \"green\" for p in perc_fill_rate_datas.values]\n",
    "\n",
    "    # Création d'un grpahique à barres pour le taux de remplissage\n",
    "    plt.figure(figsize=(25,5))\n",
    "    sns.barplot(x=perc_fill_rate_datas.index, y=perc_fill_rate_datas.values, hue=perc_fill_rate_datas.index, palette=palette)\n",
    "    plt.ylabel(\"Taux de remplissage\")\n",
    "    plt.xlabel(\"Variables\")\n",
    "    plt.xticks(rotation=90)\n",
    "    plt.title(\"Taux de remplissage du fichier\")\n",
    "\n",
    "    # Mise en place d'une ligne rouge marquant le seuil décidé %\n",
    "    line_seuil = plt.axhline(y=perc_missing_values_threshold, color=\"red\", linestyle=\"--\", label=\"seuil \" + str(perc_missing_values_threshold) + \"%\")\n",
    "\n",
    "    # Création et paramétrage des légendes à afficher\n",
    "    red_patch = mpatches.Patch(color=\"red\", label=\"< \" + str(perc_missing_values_threshold) + \"%\")\n",
    "    orange_patch = mpatches.Patch(color=\"orange\", label= \"\" + str(perc_missing_values_threshold) + \"-]100%\")\n",
    "    green_patch = mpatches.Patch(color='green', label='100%')\n",
    "    plt.legend(handles=[line_seuil, red_patch, orange_patch, green_patch], title='Taux de remplissage', loc='upper right')\n",
    "    plt.show()\n",
    "\n",
    "    # Afficher une dataframe sur le taux de remplissage des variables\n",
    "    var_with_missing_values = perc_fill_rate_datas.loc[perc_fill_rate_datas < 100].to_frame()\n",
    "    var_with_missing_values = var_with_missing_values.reset_index()\n",
    "    var_with_missing_values = var_with_missing_values.rename(columns={\"index\": \"Variable\", 0: \"% Taux remplissage\"})\n",
    "\n",
    "    if len(var_with_missing_values > 0):\n",
    "        display(var_with_missing_values)\n",
    "\n",
    "def analyse_outlier(df: pd.DataFrame):\n",
    "    \"\"\"Analyse affiche un boxplot de chaque variable numérique afin d'analyser les outliers\n",
    "    \n",
    "    Parameters:\n",
    "    df: la dataframe dont on veut analyser les outliers\n",
    "    \"\"\"\n",
    "\n",
    "    # Ne sélectionner que les variables numériques\n",
    "    quantitatives = df.select_dtypes(include=[\"number\"])\n",
    "\n",
    "    make_title(\"Statistiques descriptives\")\n",
    "    display(quantitatives.describe())\n",
    "\n",
    "    # Afficher les boxplots de chaque variable\n",
    "    nb_var = len(quantitatives.columns)\n",
    "    nb_cols = 5\n",
    "    nb_rows = int(nb_var/nb_cols) + 1\n",
    "    fig, axes = plt.subplots(nb_rows, nb_cols, figsize=(25, nb_rows * 5))\n",
    "    for i, var in enumerate(quantitatives.columns):\n",
    "        if nb_rows > 1:\n",
    "            ax = axes[i // nb_cols, i % nb_cols]\n",
    "        else:\n",
    "            ax = axes[i // nb_cols]\n",
    "        sns.boxplot(x=quantitatives[var], ax=ax)\n",
    "\n",
    "    # Supprime les emplacements non utilisés\n",
    "    for i in range(nb_var, nb_rows * nb_cols):\n",
    "        fig.delaxes(axes.flatten()[i])\n",
    "\n",
    "    make_title(\"Boxplots des variables\")\n",
    "    plt.show()\n",
    "    \n",
    "def analyse_exploratoire_generique(datas: pd.DataFrame, perc_missing_values_threshold: int = 50, nb_index: int = 1, enable_analyse_outlier: bool = True):\n",
    "    \"\"\"Effectue une analyse exploratoire générique\n",
    "\n",
    "    Parameters:\n",
    "    datas: la dataframe sur laquelle on veut effectuer une analyse exploratoire générique\n",
    "    perc_missing_values_threshold: Le seuil du pourcentage de valeur manquant qui indique si une variable est exploitable ou non (par défaut: 50)\n",
    "    nb_index: index de début d'analyse de doublons, utilisé pour analyser les doublons en dehors des index\n",
    "    \"\"\"\n",
    "\n",
    "    # Présenter les informations générales\n",
    "    make_title(\"Informations générales\")\n",
    "    datas.info()\n",
    "\n",
    "    # Afficher la répartition des types dans le jeu de données\n",
    "    make_title(\"Répartition des types dans le dataset\")\n",
    "    make_plot_dtypes(datas)\n",
    "\n",
    "\n",
    "    # Afficher les 5 premières et derniè_res lignes du DataFrame\n",
    "    make_title(\"Les 5 premières et dernières lignes\")\n",
    "    head = datas.head()\n",
    "    tail = datas.tail()\n",
    "    display(head, tail)\n",
    "\n",
    "    # Afficher le nombre de valeurs uniques\n",
    "    make_title(\"Nombre de valeurs uniques\")\n",
    "    display(datas.nunique().to_frame().T)\n",
    "\n",
    "    # Afficher le nombre des doublons génériques\n",
    "    make_title(\"Doublons génériques (toutes les variables sont utilisées)\")\n",
    "    display(datas.duplicated().sum())\n",
    "\n",
    "    # Afficher le nombre des doublons sans l'index\n",
    "    make_title(\"Doublons sans l'index\")\n",
    "    display(datas[datas.columns[nb_index:]].duplicated().sum())\n",
    "\n",
    "    # Afficher les informations sur le taux de remplissage \n",
    "    make_title(\"Informations du taux de remplissage\")\n",
    "    make_perc_missing_values_info(datas, perc_missing_values_threshold)\n",
    "\n",
    "    if enable_analyse_outlier:\n",
    "        # Afficher les analyses des variables numériques \n",
    "        analyse_outlier(datas)"
   ]
  },
  {
   "cell_type": "markdown",
   "metadata": {},
   "source": [
    "# Corps"
   ]
  },
  {
   "cell_type": "markdown",
   "metadata": {},
   "source": [
    "## Lecture des datasets"
   ]
  },
  {
   "cell_type": "code",
   "execution_count": 5,
   "metadata": {},
   "outputs": [],
   "source": [
    "df_articles = pd.read_csv(ARTICLES_METADATA_PATH)"
   ]
  },
  {
   "cell_type": "code",
   "execution_count": 6,
   "metadata": {},
   "outputs": [],
   "source": [
    "if os.path.isfile(CLICKS_HOUR_CONCATENATED_PATH):\n",
    "    df_clicks_hour = pd.read_csv(CLICKS_HOUR_CONCATENATED_PATH)\n",
    "else:\n",
    "    df_clicks_hour = pd.DataFrame()\n",
    "\n",
    "    clicks_hour_files = os.listdir(CLICKS_PATH)\n",
    "    for file in clicks_hour_files:\n",
    "        df_clicks_hour = pd.concat([df_clicks_hour, pd.read_csv(CLICKS_PATH + file)], ignore_index=True)\n",
    "    \n",
    "    df_clicks_hour.to_csv(CLICKS_HOUR_CONCATENATED_PATH, index=False)"
   ]
  },
  {
   "cell_type": "code",
   "execution_count": 7,
   "metadata": {},
   "outputs": [],
   "source": [
    "with open(ARTICLES_EMBEDDINGS_PATH, \"rb\") as f:\n",
    "    df_embedding_articles = pd.DataFrame(pickle.load(f))"
   ]
  },
  {
   "cell_type": "markdown",
   "metadata": {},
   "source": [
    "## Fusion des datasets"
   ]
  },
  {
   "cell_type": "markdown",
   "metadata": {},
   "source": [
    "Comme le dataset sur l'interaction utilisateur-article sont séparés en plusieurs datasets, 1 dataset pour une heure.\n",
    "Il est donc nécessaire de les fusionner en un seul dataset afin de pouvoir une analyse correcte."
   ]
  },
  {
   "cell_type": "code",
   "execution_count": 8,
   "metadata": {},
   "outputs": [
    {
     "data": {
      "text/html": [
       "<div>\n",
       "<style scoped>\n",
       "    .dataframe tbody tr th:only-of-type {\n",
       "        vertical-align: middle;\n",
       "    }\n",
       "\n",
       "    .dataframe tbody tr th {\n",
       "        vertical-align: top;\n",
       "    }\n",
       "\n",
       "    .dataframe thead th {\n",
       "        text-align: right;\n",
       "    }\n",
       "</style>\n",
       "<table border=\"1\" class=\"dataframe\">\n",
       "  <thead>\n",
       "    <tr style=\"text-align: right;\">\n",
       "      <th></th>\n",
       "      <th>user_id</th>\n",
       "      <th>session_id</th>\n",
       "      <th>session_start</th>\n",
       "      <th>session_size</th>\n",
       "      <th>click_article_id</th>\n",
       "      <th>click_timestamp</th>\n",
       "      <th>click_environment</th>\n",
       "      <th>click_deviceGroup</th>\n",
       "      <th>click_os</th>\n",
       "      <th>click_country</th>\n",
       "      <th>click_region</th>\n",
       "      <th>click_referrer_type</th>\n",
       "      <th>category_id</th>\n",
       "      <th>created_at_ts</th>\n",
       "      <th>publisher_id</th>\n",
       "      <th>words_count</th>\n",
       "    </tr>\n",
       "  </thead>\n",
       "  <tbody>\n",
       "    <tr>\n",
       "      <th>0</th>\n",
       "      <td>0</td>\n",
       "      <td>1506825423271737</td>\n",
       "      <td>1506825423000</td>\n",
       "      <td>2</td>\n",
       "      <td>157541</td>\n",
       "      <td>1506826828020</td>\n",
       "      <td>4</td>\n",
       "      <td>3</td>\n",
       "      <td>20</td>\n",
       "      <td>1</td>\n",
       "      <td>20</td>\n",
       "      <td>2</td>\n",
       "      <td>281</td>\n",
       "      <td>1506800518000</td>\n",
       "      <td>0</td>\n",
       "      <td>280</td>\n",
       "    </tr>\n",
       "    <tr>\n",
       "      <th>1</th>\n",
       "      <td>0</td>\n",
       "      <td>1506825423271737</td>\n",
       "      <td>1506825423000</td>\n",
       "      <td>2</td>\n",
       "      <td>68866</td>\n",
       "      <td>1506826858020</td>\n",
       "      <td>4</td>\n",
       "      <td>3</td>\n",
       "      <td>20</td>\n",
       "      <td>1</td>\n",
       "      <td>20</td>\n",
       "      <td>2</td>\n",
       "      <td>136</td>\n",
       "      <td>1506816482000</td>\n",
       "      <td>0</td>\n",
       "      <td>226</td>\n",
       "    </tr>\n",
       "    <tr>\n",
       "      <th>2</th>\n",
       "      <td>1</td>\n",
       "      <td>1506825426267738</td>\n",
       "      <td>1506825426000</td>\n",
       "      <td>2</td>\n",
       "      <td>235840</td>\n",
       "      <td>1506827017951</td>\n",
       "      <td>4</td>\n",
       "      <td>1</td>\n",
       "      <td>17</td>\n",
       "      <td>1</td>\n",
       "      <td>16</td>\n",
       "      <td>2</td>\n",
       "      <td>375</td>\n",
       "      <td>1506807839000</td>\n",
       "      <td>0</td>\n",
       "      <td>159</td>\n",
       "    </tr>\n",
       "    <tr>\n",
       "      <th>3</th>\n",
       "      <td>1</td>\n",
       "      <td>1506825426267738</td>\n",
       "      <td>1506825426000</td>\n",
       "      <td>2</td>\n",
       "      <td>96663</td>\n",
       "      <td>1506827047951</td>\n",
       "      <td>4</td>\n",
       "      <td>1</td>\n",
       "      <td>17</td>\n",
       "      <td>1</td>\n",
       "      <td>16</td>\n",
       "      <td>2</td>\n",
       "      <td>209</td>\n",
       "      <td>1506788025000</td>\n",
       "      <td>0</td>\n",
       "      <td>206</td>\n",
       "    </tr>\n",
       "    <tr>\n",
       "      <th>4</th>\n",
       "      <td>2</td>\n",
       "      <td>1506825435299739</td>\n",
       "      <td>1506825435000</td>\n",
       "      <td>2</td>\n",
       "      <td>119592</td>\n",
       "      <td>1506827090575</td>\n",
       "      <td>4</td>\n",
       "      <td>1</td>\n",
       "      <td>17</td>\n",
       "      <td>1</td>\n",
       "      <td>24</td>\n",
       "      <td>2</td>\n",
       "      <td>247</td>\n",
       "      <td>1506784316000</td>\n",
       "      <td>0</td>\n",
       "      <td>239</td>\n",
       "    </tr>\n",
       "  </tbody>\n",
       "</table>\n",
       "</div>"
      ],
      "text/plain": [
       "   user_id        session_id  session_start  session_size  click_article_id  \\\n",
       "0        0  1506825423271737  1506825423000             2            157541   \n",
       "1        0  1506825423271737  1506825423000             2             68866   \n",
       "2        1  1506825426267738  1506825426000             2            235840   \n",
       "3        1  1506825426267738  1506825426000             2             96663   \n",
       "4        2  1506825435299739  1506825435000             2            119592   \n",
       "\n",
       "   click_timestamp  click_environment  click_deviceGroup  click_os  \\\n",
       "0    1506826828020                  4                  3        20   \n",
       "1    1506826858020                  4                  3        20   \n",
       "2    1506827017951                  4                  1        17   \n",
       "3    1506827047951                  4                  1        17   \n",
       "4    1506827090575                  4                  1        17   \n",
       "\n",
       "   click_country  click_region  click_referrer_type  category_id  \\\n",
       "0              1            20                    2          281   \n",
       "1              1            20                    2          136   \n",
       "2              1            16                    2          375   \n",
       "3              1            16                    2          209   \n",
       "4              1            24                    2          247   \n",
       "\n",
       "   created_at_ts  publisher_id  words_count  \n",
       "0  1506800518000             0          280  \n",
       "1  1506816482000             0          226  \n",
       "2  1506807839000             0          159  \n",
       "3  1506788025000             0          206  \n",
       "4  1506784316000             0          239  "
      ]
     },
     "execution_count": 8,
     "metadata": {},
     "output_type": "execute_result"
    }
   ],
   "source": [
    "df_full = df_clicks_hour.merge(df_articles, how=\"inner\", left_on=\"click_article_id\", right_on=\"article_id\")\n",
    "df_full.drop(columns=\"article_id\", inplace=True)\n",
    "df_full.head()"
   ]
  },
  {
   "cell_type": "markdown",
   "metadata": {},
   "source": [
    "## Analyse exploratoire générique"
   ]
  },
  {
   "cell_type": "markdown",
   "metadata": {},
   "source": [
    "Il s'agit d'une analyse exploratoire générique en utilisant une fonction non personnalisée (c'est à dire que la fonction n'est pas faite sur mesure pour les datasets du projet), le résultat des analyses ne sont pas toujours pertinentes, mais certain peut apporter des informations intéressantes."
   ]
  },
  {
   "cell_type": "markdown",
   "metadata": {},
   "source": [
    "### Articles"
   ]
  },
  {
   "cell_type": "code",
   "execution_count": 9,
   "metadata": {},
   "outputs": [
    {
     "name": "stdout",
     "output_type": "stream",
     "text": [
      "\n",
      "###### Informations générales ######\n",
      "\n",
      "<class 'pandas.core.frame.DataFrame'>\n",
      "RangeIndex: 364047 entries, 0 to 364046\n",
      "Data columns (total 5 columns):\n",
      " #   Column         Non-Null Count   Dtype\n",
      "---  ------         --------------   -----\n",
      " 0   article_id     364047 non-null  int64\n",
      " 1   category_id    364047 non-null  int64\n",
      " 2   created_at_ts  364047 non-null  int64\n",
      " 3   publisher_id   364047 non-null  int64\n",
      " 4   words_count    364047 non-null  int64\n",
      "dtypes: int64(5)\n",
      "memory usage: 13.9 MB\n",
      "\n",
      "###### Répartition des types dans le dataset ######\n",
      "\n",
      "int64    5\n",
      "Name: count, dtype: int64\n"
     ]
    },
    {
     "data": {
      "image/png": "[encoded data removed]",
      "text/plain": [
       "<Figure size 1000x500 with 1 Axes>"
      ]
     },
     "metadata": {},
     "output_type": "display_data"
    },
    {
     "name": "stdout",
     "output_type": "stream",
     "text": [
      "\n",
      "###### Les 5 premières et dernières lignes ######\n",
      "\n"
     ]
    },
    {
     "data": {
      "text/html": [
       "<div>\n",
       "<style scoped>\n",
       "    .dataframe tbody tr th:only-of-type {\n",
       "        vertical-align: middle;\n",
       "    }\n",
       "\n",
       "    .dataframe tbody tr th {\n",
       "        vertical-align: top;\n",
       "    }\n",
       "\n",
       "    .dataframe thead th {\n",
       "        text-align: right;\n",
       "    }\n",
       "</style>\n",
       "<table border=\"1\" class=\"dataframe\">\n",
       "  <thead>\n",
       "    <tr style=\"text-align: right;\">\n",
       "      <th></th>\n",
       "      <th>article_id</th>\n",
       "      <th>category_id</th>\n",
       "      <th>created_at_ts</th>\n",
       "      <th>publisher_id</th>\n",
       "      <th>words_count</th>\n",
       "    </tr>\n",
       "  </thead>\n",
       "  <tbody>\n",
       "    <tr>\n",
       "      <th>0</th>\n",
       "      <td>0</td>\n",
       "      <td>0</td>\n",
       "      <td>1513144419000</td>\n",
       "      <td>0</td>\n",
       "      <td>168</td>\n",
       "    </tr>\n",
       "    <tr>\n",
       "      <th>1</th>\n",
       "      <td>1</td>\n",
       "      <td>1</td>\n",
       "      <td>1405341936000</td>\n",
       "      <td>0</td>\n",
       "      <td>189</td>\n",
       "    </tr>\n",
       "    <tr>\n",
       "      <th>2</th>\n",
       "      <td>2</td>\n",
       "      <td>1</td>\n",
       "      <td>1408667706000</td>\n",
       "      <td>0</td>\n",
       "      <td>250</td>\n",
       "    </tr>\n",
       "    <tr>\n",
       "      <th>3</th>\n",
       "      <td>3</td>\n",
       "      <td>1</td>\n",
       "      <td>1408468313000</td>\n",
       "      <td>0</td>\n",
       "      <td>230</td>\n",
       "    </tr>\n",
       "    <tr>\n",
       "      <th>4</th>\n",
       "      <td>4</td>\n",
       "      <td>1</td>\n",
       "      <td>1407071171000</td>\n",
       "      <td>0</td>\n",
       "      <td>162</td>\n",
       "    </tr>\n",
       "  </tbody>\n",
       "</table>\n",
       "</div>"
      ],
      "text/plain": [
       "   article_id  category_id  created_at_ts  publisher_id  words_count\n",
       "0           0            0  1513144419000             0          168\n",
       "1           1            1  1405341936000             0          189\n",
       "2           2            1  1408667706000             0          250\n",
       "3           3            1  1408468313000             0          230\n",
       "4           4            1  1407071171000             0          162"
      ]
     },
     "metadata": {},
     "output_type": "display_data"
    },
    {
     "data": {
      "text/html": [
       "<div>\n",
       "<style scoped>\n",
       "    .dataframe tbody tr th:only-of-type {\n",
       "        vertical-align: middle;\n",
       "    }\n",
       "\n",
       "    .dataframe tbody tr th {\n",
       "        vertical-align: top;\n",
       "    }\n",
       "\n",
       "    .dataframe thead th {\n",
       "        text-align: right;\n",
       "    }\n",
       "</style>\n",
       "<table border=\"1\" class=\"dataframe\">\n",
       "  <thead>\n",
       "    <tr style=\"text-align: right;\">\n",
       "      <th></th>\n",
       "      <th>article_id</th>\n",
       "      <th>category_id</th>\n",
       "      <th>created_at_ts</th>\n",
       "      <th>publisher_id</th>\n",
       "      <th>words_count</th>\n",
       "    </tr>\n",
       "  </thead>\n",
       "  <tbody>\n",
       "    <tr>\n",
       "      <th>364042</th>\n",
       "      <td>364042</td>\n",
       "      <td>460</td>\n",
       "      <td>1434034118000</td>\n",
       "      <td>0</td>\n",
       "      <td>144</td>\n",
       "    </tr>\n",
       "    <tr>\n",
       "      <th>364043</th>\n",
       "      <td>364043</td>\n",
       "      <td>460</td>\n",
       "      <td>1434148472000</td>\n",
       "      <td>0</td>\n",
       "      <td>463</td>\n",
       "    </tr>\n",
       "    <tr>\n",
       "      <th>364044</th>\n",
       "      <td>364044</td>\n",
       "      <td>460</td>\n",
       "      <td>1457974279000</td>\n",
       "      <td>0</td>\n",
       "      <td>177</td>\n",
       "    </tr>\n",
       "    <tr>\n",
       "      <th>364045</th>\n",
       "      <td>364045</td>\n",
       "      <td>460</td>\n",
       "      <td>1515964737000</td>\n",
       "      <td>0</td>\n",
       "      <td>126</td>\n",
       "    </tr>\n",
       "    <tr>\n",
       "      <th>364046</th>\n",
       "      <td>364046</td>\n",
       "      <td>460</td>\n",
       "      <td>1505811330000</td>\n",
       "      <td>0</td>\n",
       "      <td>479</td>\n",
       "    </tr>\n",
       "  </tbody>\n",
       "</table>\n",
       "</div>"
      ],
      "text/plain": [
       "        article_id  category_id  created_at_ts  publisher_id  words_count\n",
       "364042      364042          460  1434034118000             0          144\n",
       "364043      364043          460  1434148472000             0          463\n",
       "364044      364044          460  1457974279000             0          177\n",
       "364045      364045          460  1515964737000             0          126\n",
       "364046      364046          460  1505811330000             0          479"
      ]
     },
     "metadata": {},
     "output_type": "display_data"
    },
    {
     "name": "stdout",
     "output_type": "stream",
     "text": [
      "\n",
      "###### Nombre de valeurs uniques ######\n",
      "\n"
     ]
    },
    {
     "data": {
      "text/html": [
       "<div>\n",
       "<style scoped>\n",
       "    .dataframe tbody tr th:only-of-type {\n",
       "        vertical-align: middle;\n",
       "    }\n",
       "\n",
       "    .dataframe tbody tr th {\n",
       "        vertical-align: top;\n",
       "    }\n",
       "\n",
       "    .dataframe thead th {\n",
       "        text-align: right;\n",
       "    }\n",
       "</style>\n",
       "<table border=\"1\" class=\"dataframe\">\n",
       "  <thead>\n",
       "    <tr style=\"text-align: right;\">\n",
       "      <th></th>\n",
       "      <th>article_id</th>\n",
       "      <th>category_id</th>\n",
       "      <th>created_at_ts</th>\n",
       "      <th>publisher_id</th>\n",
       "      <th>words_count</th>\n",
       "    </tr>\n",
       "  </thead>\n",
       "  <tbody>\n",
       "    <tr>\n",
       "      <th>0</th>\n",
       "      <td>364047</td>\n",
       "      <td>461</td>\n",
       "      <td>359552</td>\n",
       "      <td>1</td>\n",
       "      <td>866</td>\n",
       "    </tr>\n",
       "  </tbody>\n",
       "</table>\n",
       "</div>"
      ],
      "text/plain": [
       "   article_id  category_id  created_at_ts  publisher_id  words_count\n",
       "0      364047          461         359552             1          866"
      ]
     },
     "metadata": {},
     "output_type": "display_data"
    },
    {
     "name": "stdout",
     "output_type": "stream",
     "text": [
      "\n",
      "###### Doublons génériques (toutes les variables sont utilisées) ######\n",
      "\n"
     ]
    },
    {
     "data": {
      "text/plain": [
       "np.int64(0)"
      ]
     },
     "metadata": {},
     "output_type": "display_data"
    },
    {
     "name": "stdout",
     "output_type": "stream",
     "text": [
      "\n",
      "###### Doublons sans l'index ######\n",
      "\n"
     ]
    },
    {
     "data": {
      "text/plain": [
       "np.int64(6)"
      ]
     },
     "metadata": {},
     "output_type": "display_data"
    },
    {
     "name": "stdout",
     "output_type": "stream",
     "text": [
      "\n",
      "###### Informations du taux de remplissage ######\n",
      "\n"
     ]
    },
    {
     "data": {
      "image/png": "[encoded data removed]",
      "text/plain": [
       "<Figure size 2500x500 with 1 Axes>"
      ]
     },
     "metadata": {},
     "output_type": "display_data"
    },
    {
     "name": "stdout",
     "output_type": "stream",
     "text": [
      "\n",
      "###### Statistiques descriptives ######\n",
      "\n"
     ]
    },
    {
     "data": {
      "text/html": [
       "<div>\n",
       "<style scoped>\n",
       "    .dataframe tbody tr th:only-of-type {\n",
       "        vertical-align: middle;\n",
       "    }\n",
       "\n",
       "    .dataframe tbody tr th {\n",
       "        vertical-align: top;\n",
       "    }\n",
       "\n",
       "    .dataframe thead th {\n",
       "        text-align: right;\n",
       "    }\n",
       "</style>\n",
       "<table border=\"1\" class=\"dataframe\">\n",
       "  <thead>\n",
       "    <tr style=\"text-align: right;\">\n",
       "      <th></th>\n",
       "      <th>article_id</th>\n",
       "      <th>category_id</th>\n",
       "      <th>created_at_ts</th>\n",
       "      <th>publisher_id</th>\n",
       "      <th>words_count</th>\n",
       "    </tr>\n",
       "  </thead>\n",
       "  <tbody>\n",
       "    <tr>\n",
       "      <th>count</th>\n",
       "      <td>364047.000000</td>\n",
       "      <td>364047.000000</td>\n",
       "      <td>3.640470e+05</td>\n",
       "      <td>364047.0</td>\n",
       "      <td>364047.000000</td>\n",
       "    </tr>\n",
       "    <tr>\n",
       "      <th>mean</th>\n",
       "      <td>182023.000000</td>\n",
       "      <td>283.108239</td>\n",
       "      <td>1.474070e+12</td>\n",
       "      <td>0.0</td>\n",
       "      <td>190.897727</td>\n",
       "    </tr>\n",
       "    <tr>\n",
       "      <th>std</th>\n",
       "      <td>105091.461061</td>\n",
       "      <td>136.723470</td>\n",
       "      <td>4.293038e+10</td>\n",
       "      <td>0.0</td>\n",
       "      <td>59.502766</td>\n",
       "    </tr>\n",
       "    <tr>\n",
       "      <th>min</th>\n",
       "      <td>0.000000</td>\n",
       "      <td>0.000000</td>\n",
       "      <td>1.159356e+12</td>\n",
       "      <td>0.0</td>\n",
       "      <td>0.000000</td>\n",
       "    </tr>\n",
       "    <tr>\n",
       "      <th>25%</th>\n",
       "      <td>91011.500000</td>\n",
       "      <td>199.000000</td>\n",
       "      <td>1.444925e+12</td>\n",
       "      <td>0.0</td>\n",
       "      <td>159.000000</td>\n",
       "    </tr>\n",
       "    <tr>\n",
       "      <th>50%</th>\n",
       "      <td>182023.000000</td>\n",
       "      <td>301.000000</td>\n",
       "      <td>1.489422e+12</td>\n",
       "      <td>0.0</td>\n",
       "      <td>186.000000</td>\n",
       "    </tr>\n",
       "    <tr>\n",
       "      <th>75%</th>\n",
       "      <td>273034.500000</td>\n",
       "      <td>399.000000</td>\n",
       "      <td>1.509891e+12</td>\n",
       "      <td>0.0</td>\n",
       "      <td>218.000000</td>\n",
       "    </tr>\n",
       "    <tr>\n",
       "      <th>max</th>\n",
       "      <td>364046.000000</td>\n",
       "      <td>460.000000</td>\n",
       "      <td>1.520943e+12</td>\n",
       "      <td>0.0</td>\n",
       "      <td>6690.000000</td>\n",
       "    </tr>\n",
       "  </tbody>\n",
       "</table>\n",
       "</div>"
      ],
      "text/plain": [
       "          article_id    category_id  created_at_ts  publisher_id  \\\n",
       "count  364047.000000  364047.000000   3.640470e+05      364047.0   \n",
       "mean   182023.000000     283.108239   1.474070e+12           0.0   \n",
       "std    105091.461061     136.723470   4.293038e+10           0.0   \n",
       "min         0.000000       0.000000   1.159356e+12           0.0   \n",
       "25%     91011.500000     199.000000   1.444925e+12           0.0   \n",
       "50%    182023.000000     301.000000   1.489422e+12           0.0   \n",
       "75%    273034.500000     399.000000   1.509891e+12           0.0   \n",
       "max    364046.000000     460.000000   1.520943e+12           0.0   \n",
       "\n",
       "         words_count  \n",
       "count  364047.000000  \n",
       "mean      190.897727  \n",
       "std        59.502766  \n",
       "min         0.000000  \n",
       "25%       159.000000  \n",
       "50%       186.000000  \n",
       "75%       218.000000  \n",
       "max      6690.000000  "
      ]
     },
     "metadata": {},
     "output_type": "display_data"
    },
    {
     "name": "stdout",
     "output_type": "stream",
     "text": [
      "\n",
      "###### Boxplots des variables ######\n",
      "\n"
     ]
    },
    {
     "data": {
      "image/png": "[encoded data removed]",
      "text/plain": [
       "<Figure size 2500x1000 with 5 Axes>"
      ]
     },
     "metadata": {},
     "output_type": "display_data"
    }
   ],
   "source": [
    "analyse_exploratoire_generique(df_articles)"
   ]
  },
  {
   "cell_type": "markdown",
   "metadata": {},
   "source": [
    "### Clicks_hour"
   ]
  },
  {
   "cell_type": "code",
   "execution_count": 10,
   "metadata": {},
   "outputs": [
    {
     "name": "stdout",
     "output_type": "stream",
     "text": [
      "\n",
      "###### Informations générales ######\n",
      "\n",
      "<class 'pandas.core.frame.DataFrame'>\n",
      "RangeIndex: 2988181 entries, 0 to 2988180\n",
      "Data columns (total 12 columns):\n",
      " #   Column               Dtype\n",
      "---  ------               -----\n",
      " 0   user_id              int64\n",
      " 1   session_id           int64\n",
      " 2   session_start        int64\n",
      " 3   session_size         int64\n",
      " 4   click_article_id     int64\n",
      " 5   click_timestamp      int64\n",
      " 6   click_environment    int64\n",
      " 7   click_deviceGroup    int64\n",
      " 8   click_os             int64\n",
      " 9   click_country        int64\n",
      " 10  click_region         int64\n",
      " 11  click_referrer_type  int64\n",
      "dtypes: int64(12)\n",
      "memory usage: 273.6 MB\n",
      "\n",
      "###### Répartition des types dans le dataset ######\n",
      "\n",
      "int64    12\n",
      "Name: count, dtype: int64\n"
     ]
    },
    {
     "data": {
      "image/png": "[encoded data removed]",
      "text/plain": [
       "<Figure size 1000x500 with 1 Axes>"
      ]
     },
     "metadata": {},
     "output_type": "display_data"
    },
    {
     "name": "stdout",
     "output_type": "stream",
     "text": [
      "\n",
      "###### Les 5 premières et dernières lignes ######\n",
      "\n"
     ]
    },
    {
     "data": {
      "text/html": [
       "<div>\n",
       "<style scoped>\n",
       "    .dataframe tbody tr th:only-of-type {\n",
       "        vertical-align: middle;\n",
       "    }\n",
       "\n",
       "    .dataframe tbody tr th {\n",
       "        vertical-align: top;\n",
       "    }\n",
       "\n",
       "    .dataframe thead th {\n",
       "        text-align: right;\n",
       "    }\n",
       "</style>\n",
       "<table border=\"1\" class=\"dataframe\">\n",
       "  <thead>\n",
       "    <tr style=\"text-align: right;\">\n",
       "      <th></th>\n",
       "      <th>user_id</th>\n",
       "      <th>session_id</th>\n",
       "      <th>session_start</th>\n",
       "      <th>session_size</th>\n",
       "      <th>click_article_id</th>\n",
       "      <th>click_timestamp</th>\n",
       "      <th>click_environment</th>\n",
       "      <th>click_deviceGroup</th>\n",
       "      <th>click_os</th>\n",
       "      <th>click_country</th>\n",
       "      <th>click_region</th>\n",
       "      <th>click_referrer_type</th>\n",
       "    </tr>\n",
       "  </thead>\n",
       "  <tbody>\n",
       "    <tr>\n",
       "      <th>0</th>\n",
       "      <td>0</td>\n",
       "      <td>1506825423271737</td>\n",
       "      <td>1506825423000</td>\n",
       "      <td>2</td>\n",
       "      <td>157541</td>\n",
       "      <td>1506826828020</td>\n",
       "      <td>4</td>\n",
       "      <td>3</td>\n",
       "      <td>20</td>\n",
       "      <td>1</td>\n",
       "      <td>20</td>\n",
       "      <td>2</td>\n",
       "    </tr>\n",
       "    <tr>\n",
       "      <th>1</th>\n",
       "      <td>0</td>\n",
       "      <td>1506825423271737</td>\n",
       "      <td>1506825423000</td>\n",
       "      <td>2</td>\n",
       "      <td>68866</td>\n",
       "      <td>1506826858020</td>\n",
       "      <td>4</td>\n",
       "      <td>3</td>\n",
       "      <td>20</td>\n",
       "      <td>1</td>\n",
       "      <td>20</td>\n",
       "      <td>2</td>\n",
       "    </tr>\n",
       "    <tr>\n",
       "      <th>2</th>\n",
       "      <td>1</td>\n",
       "      <td>1506825426267738</td>\n",
       "      <td>1506825426000</td>\n",
       "      <td>2</td>\n",
       "      <td>235840</td>\n",
       "      <td>1506827017951</td>\n",
       "      <td>4</td>\n",
       "      <td>1</td>\n",
       "      <td>17</td>\n",
       "      <td>1</td>\n",
       "      <td>16</td>\n",
       "      <td>2</td>\n",
       "    </tr>\n",
       "    <tr>\n",
       "      <th>3</th>\n",
       "      <td>1</td>\n",
       "      <td>1506825426267738</td>\n",
       "      <td>1506825426000</td>\n",
       "      <td>2</td>\n",
       "      <td>96663</td>\n",
       "      <td>1506827047951</td>\n",
       "      <td>4</td>\n",
       "      <td>1</td>\n",
       "      <td>17</td>\n",
       "      <td>1</td>\n",
       "      <td>16</td>\n",
       "      <td>2</td>\n",
       "    </tr>\n",
       "    <tr>\n",
       "      <th>4</th>\n",
       "      <td>2</td>\n",
       "      <td>1506825435299739</td>\n",
       "      <td>1506825435000</td>\n",
       "      <td>2</td>\n",
       "      <td>119592</td>\n",
       "      <td>1506827090575</td>\n",
       "      <td>4</td>\n",
       "      <td>1</td>\n",
       "      <td>17</td>\n",
       "      <td>1</td>\n",
       "      <td>24</td>\n",
       "      <td>2</td>\n",
       "    </tr>\n",
       "  </tbody>\n",
       "</table>\n",
       "</div>"
      ],
      "text/plain": [
       "   user_id        session_id  session_start  session_size  click_article_id  \\\n",
       "0        0  1506825423271737  1506825423000             2            157541   \n",
       "1        0  1506825423271737  1506825423000             2             68866   \n",
       "2        1  1506825426267738  1506825426000             2            235840   \n",
       "3        1  1506825426267738  1506825426000             2             96663   \n",
       "4        2  1506825435299739  1506825435000             2            119592   \n",
       "\n",
       "   click_timestamp  click_environment  click_deviceGroup  click_os  \\\n",
       "0    1506826828020                  4                  3        20   \n",
       "1    1506826858020                  4                  3        20   \n",
       "2    1506827017951                  4                  1        17   \n",
       "3    1506827047951                  4                  1        17   \n",
       "4    1506827090575                  4                  1        17   \n",
       "\n",
       "   click_country  click_region  click_referrer_type  \n",
       "0              1            20                    2  \n",
       "1              1            20                    2  \n",
       "2              1            16                    2  \n",
       "3              1            16                    2  \n",
       "4              1            24                    2  "
      ]
     },
     "metadata": {},
     "output_type": "display_data"
    },
    {
     "data": {
      "text/html": [
       "<div>\n",
       "<style scoped>\n",
       "    .dataframe tbody tr th:only-of-type {\n",
       "        vertical-align: middle;\n",
       "    }\n",
       "\n",
       "    .dataframe tbody tr th {\n",
       "        vertical-align: top;\n",
       "    }\n",
       "\n",
       "    .dataframe thead th {\n",
       "        text-align: right;\n",
       "    }\n",
       "</style>\n",
       "<table border=\"1\" class=\"dataframe\">\n",
       "  <thead>\n",
       "    <tr style=\"text-align: right;\">\n",
       "      <th></th>\n",
       "      <th>user_id</th>\n",
       "      <th>session_id</th>\n",
       "      <th>session_start</th>\n",
       "      <th>session_size</th>\n",
       "      <th>click_article_id</th>\n",
       "      <th>click_timestamp</th>\n",
       "      <th>click_environment</th>\n",
       "      <th>click_deviceGroup</th>\n",
       "      <th>click_os</th>\n",
       "      <th>click_country</th>\n",
       "      <th>click_region</th>\n",
       "      <th>click_referrer_type</th>\n",
       "    </tr>\n",
       "  </thead>\n",
       "  <tbody>\n",
       "    <tr>\n",
       "      <th>2988176</th>\n",
       "      <td>10051</td>\n",
       "      <td>1508211372158328</td>\n",
       "      <td>1508211372000</td>\n",
       "      <td>2</td>\n",
       "      <td>84911</td>\n",
       "      <td>1508211557302</td>\n",
       "      <td>4</td>\n",
       "      <td>3</td>\n",
       "      <td>2</td>\n",
       "      <td>1</td>\n",
       "      <td>25</td>\n",
       "      <td>1</td>\n",
       "    </tr>\n",
       "    <tr>\n",
       "      <th>2988177</th>\n",
       "      <td>322896</td>\n",
       "      <td>1508211376302329</td>\n",
       "      <td>1508211376000</td>\n",
       "      <td>2</td>\n",
       "      <td>30760</td>\n",
       "      <td>1508211672520</td>\n",
       "      <td>4</td>\n",
       "      <td>1</td>\n",
       "      <td>17</td>\n",
       "      <td>1</td>\n",
       "      <td>25</td>\n",
       "      <td>2</td>\n",
       "    </tr>\n",
       "    <tr>\n",
       "      <th>2988178</th>\n",
       "      <td>322896</td>\n",
       "      <td>1508211376302329</td>\n",
       "      <td>1508211376000</td>\n",
       "      <td>2</td>\n",
       "      <td>157507</td>\n",
       "      <td>1508211702520</td>\n",
       "      <td>4</td>\n",
       "      <td>1</td>\n",
       "      <td>17</td>\n",
       "      <td>1</td>\n",
       "      <td>25</td>\n",
       "      <td>2</td>\n",
       "    </tr>\n",
       "    <tr>\n",
       "      <th>2988179</th>\n",
       "      <td>123718</td>\n",
       "      <td>1508211379189330</td>\n",
       "      <td>1508211379000</td>\n",
       "      <td>2</td>\n",
       "      <td>234481</td>\n",
       "      <td>1508211513583</td>\n",
       "      <td>4</td>\n",
       "      <td>3</td>\n",
       "      <td>2</td>\n",
       "      <td>1</td>\n",
       "      <td>25</td>\n",
       "      <td>2</td>\n",
       "    </tr>\n",
       "    <tr>\n",
       "      <th>2988180</th>\n",
       "      <td>123718</td>\n",
       "      <td>1508211379189330</td>\n",
       "      <td>1508211379000</td>\n",
       "      <td>2</td>\n",
       "      <td>233578</td>\n",
       "      <td>1508211543583</td>\n",
       "      <td>4</td>\n",
       "      <td>3</td>\n",
       "      <td>2</td>\n",
       "      <td>1</td>\n",
       "      <td>25</td>\n",
       "      <td>2</td>\n",
       "    </tr>\n",
       "  </tbody>\n",
       "</table>\n",
       "</div>"
      ],
      "text/plain": [
       "         user_id        session_id  session_start  session_size  \\\n",
       "2988176    10051  1508211372158328  1508211372000             2   \n",
       "2988177   322896  1508211376302329  1508211376000             2   \n",
       "2988178   322896  1508211376302329  1508211376000             2   \n",
       "2988179   123718  1508211379189330  1508211379000             2   \n",
       "2988180   123718  1508211379189330  1508211379000             2   \n",
       "\n",
       "         click_article_id  click_timestamp  click_environment  \\\n",
       "2988176             84911    1508211557302                  4   \n",
       "2988177             30760    1508211672520                  4   \n",
       "2988178            157507    1508211702520                  4   \n",
       "2988179            234481    1508211513583                  4   \n",
       "2988180            233578    1508211543583                  4   \n",
       "\n",
       "         click_deviceGroup  click_os  click_country  click_region  \\\n",
       "2988176                  3         2              1            25   \n",
       "2988177                  1        17              1            25   \n",
       "2988178                  1        17              1            25   \n",
       "2988179                  3         2              1            25   \n",
       "2988180                  3         2              1            25   \n",
       "\n",
       "         click_referrer_type  \n",
       "2988176                    1  \n",
       "2988177                    2  \n",
       "2988178                    2  \n",
       "2988179                    2  \n",
       "2988180                    2  "
      ]
     },
     "metadata": {},
     "output_type": "display_data"
    },
    {
     "name": "stdout",
     "output_type": "stream",
     "text": [
      "\n",
      "###### Nombre de valeurs uniques ######\n",
      "\n"
     ]
    },
    {
     "data": {
      "text/html": [
       "<div>\n",
       "<style scoped>\n",
       "    .dataframe tbody tr th:only-of-type {\n",
       "        vertical-align: middle;\n",
       "    }\n",
       "\n",
       "    .dataframe tbody tr th {\n",
       "        vertical-align: top;\n",
       "    }\n",
       "\n",
       "    .dataframe thead th {\n",
       "        text-align: right;\n",
       "    }\n",
       "</style>\n",
       "<table border=\"1\" class=\"dataframe\">\n",
       "  <thead>\n",
       "    <tr style=\"text-align: right;\">\n",
       "      <th></th>\n",
       "      <th>user_id</th>\n",
       "      <th>session_id</th>\n",
       "      <th>session_start</th>\n",
       "      <th>session_size</th>\n",
       "      <th>click_article_id</th>\n",
       "      <th>click_timestamp</th>\n",
       "      <th>click_environment</th>\n",
       "      <th>click_deviceGroup</th>\n",
       "      <th>click_os</th>\n",
       "      <th>click_country</th>\n",
       "      <th>click_region</th>\n",
       "      <th>click_referrer_type</th>\n",
       "    </tr>\n",
       "  </thead>\n",
       "  <tbody>\n",
       "    <tr>\n",
       "      <th>0</th>\n",
       "      <td>322897</td>\n",
       "      <td>1048594</td>\n",
       "      <td>646874</td>\n",
       "      <td>72</td>\n",
       "      <td>46033</td>\n",
       "      <td>2983198</td>\n",
       "      <td>3</td>\n",
       "      <td>5</td>\n",
       "      <td>8</td>\n",
       "      <td>11</td>\n",
       "      <td>28</td>\n",
       "      <td>7</td>\n",
       "    </tr>\n",
       "  </tbody>\n",
       "</table>\n",
       "</div>"
      ],
      "text/plain": [
       "   user_id  session_id  session_start  session_size  click_article_id  \\\n",
       "0   322897     1048594         646874            72             46033   \n",
       "\n",
       "   click_timestamp  click_environment  click_deviceGroup  click_os  \\\n",
       "0          2983198                  3                  5         8   \n",
       "\n",
       "   click_country  click_region  click_referrer_type  \n",
       "0             11            28                    7  "
      ]
     },
     "metadata": {},
     "output_type": "display_data"
    },
    {
     "name": "stdout",
     "output_type": "stream",
     "text": [
      "\n",
      "###### Doublons génériques (toutes les variables sont utilisées) ######\n",
      "\n"
     ]
    },
    {
     "data": {
      "text/plain": [
       "np.int64(0)"
      ]
     },
     "metadata": {},
     "output_type": "display_data"
    },
    {
     "name": "stdout",
     "output_type": "stream",
     "text": [
      "\n",
      "###### Doublons sans l'index ######\n",
      "\n"
     ]
    },
    {
     "data": {
      "text/plain": [
       "np.int64(0)"
      ]
     },
     "metadata": {},
     "output_type": "display_data"
    },
    {
     "name": "stdout",
     "output_type": "stream",
     "text": [
      "\n",
      "###### Informations du taux de remplissage ######\n",
      "\n"
     ]
    },
    {
     "data": {
      "image/png": "[encoded data removed]",
      "text/plain": [
       "<Figure size 2500x500 with 1 Axes>"
      ]
     },
     "metadata": {},
     "output_type": "display_data"
    },
    {
     "name": "stdout",
     "output_type": "stream",
     "text": [
      "\n",
      "###### Statistiques descriptives ######\n",
      "\n"
     ]
    },
    {
     "data": {
      "text/html": [
       "<div>\n",
       "<style scoped>\n",
       "    .dataframe tbody tr th:only-of-type {\n",
       "        vertical-align: middle;\n",
       "    }\n",
       "\n",
       "    .dataframe tbody tr th {\n",
       "        vertical-align: top;\n",
       "    }\n",
       "\n",
       "    .dataframe thead th {\n",
       "        text-align: right;\n",
       "    }\n",
       "</style>\n",
       "<table border=\"1\" class=\"dataframe\">\n",
       "  <thead>\n",
       "    <tr style=\"text-align: right;\">\n",
       "      <th></th>\n",
       "      <th>user_id</th>\n",
       "      <th>session_id</th>\n",
       "      <th>session_start</th>\n",
       "      <th>session_size</th>\n",
       "      <th>click_article_id</th>\n",
       "      <th>click_timestamp</th>\n",
       "      <th>click_environment</th>\n",
       "      <th>click_deviceGroup</th>\n",
       "      <th>click_os</th>\n",
       "      <th>click_country</th>\n",
       "      <th>click_region</th>\n",
       "      <th>click_referrer_type</th>\n",
       "    </tr>\n",
       "  </thead>\n",
       "  <tbody>\n",
       "    <tr>\n",
       "      <th>count</th>\n",
       "      <td>2.988181e+06</td>\n",
       "      <td>2.988181e+06</td>\n",
       "      <td>2.988181e+06</td>\n",
       "      <td>2.988181e+06</td>\n",
       "      <td>2.988181e+06</td>\n",
       "      <td>2.988181e+06</td>\n",
       "      <td>2.988181e+06</td>\n",
       "      <td>2.988181e+06</td>\n",
       "      <td>2.988181e+06</td>\n",
       "      <td>2.988181e+06</td>\n",
       "      <td>2.988181e+06</td>\n",
       "      <td>2.988181e+06</td>\n",
       "    </tr>\n",
       "    <tr>\n",
       "      <th>mean</th>\n",
       "      <td>1.079478e+05</td>\n",
       "      <td>1.507472e+15</td>\n",
       "      <td>1.507472e+12</td>\n",
       "      <td>3.901885e+00</td>\n",
       "      <td>1.949226e+05</td>\n",
       "      <td>1.507474e+12</td>\n",
       "      <td>3.942652e+00</td>\n",
       "      <td>1.819306e+00</td>\n",
       "      <td>1.327760e+01</td>\n",
       "      <td>1.357656e+00</td>\n",
       "      <td>1.831331e+01</td>\n",
       "      <td>1.838981e+00</td>\n",
       "    </tr>\n",
       "    <tr>\n",
       "      <th>std</th>\n",
       "      <td>8.364836e+04</td>\n",
       "      <td>3.855245e+11</td>\n",
       "      <td>3.855245e+08</td>\n",
       "      <td>3.929941e+00</td>\n",
       "      <td>9.076842e+04</td>\n",
       "      <td>3.858510e+08</td>\n",
       "      <td>3.396804e-01</td>\n",
       "      <td>1.042214e+00</td>\n",
       "      <td>6.881718e+00</td>\n",
       "      <td>1.725861e+00</td>\n",
       "      <td>7.064006e+00</td>\n",
       "      <td>1.156356e+00</td>\n",
       "    </tr>\n",
       "    <tr>\n",
       "      <th>min</th>\n",
       "      <td>0.000000e+00</td>\n",
       "      <td>1.506825e+15</td>\n",
       "      <td>1.506825e+12</td>\n",
       "      <td>2.000000e+00</td>\n",
       "      <td>3.000000e+00</td>\n",
       "      <td>1.506827e+12</td>\n",
       "      <td>1.000000e+00</td>\n",
       "      <td>1.000000e+00</td>\n",
       "      <td>2.000000e+00</td>\n",
       "      <td>1.000000e+00</td>\n",
       "      <td>1.000000e+00</td>\n",
       "      <td>1.000000e+00</td>\n",
       "    </tr>\n",
       "    <tr>\n",
       "      <th>25%</th>\n",
       "      <td>4.034100e+04</td>\n",
       "      <td>1.507124e+15</td>\n",
       "      <td>1.507124e+12</td>\n",
       "      <td>2.000000e+00</td>\n",
       "      <td>1.242280e+05</td>\n",
       "      <td>1.507127e+12</td>\n",
       "      <td>4.000000e+00</td>\n",
       "      <td>1.000000e+00</td>\n",
       "      <td>2.000000e+00</td>\n",
       "      <td>1.000000e+00</td>\n",
       "      <td>1.300000e+01</td>\n",
       "      <td>1.000000e+00</td>\n",
       "    </tr>\n",
       "    <tr>\n",
       "      <th>50%</th>\n",
       "      <td>8.622900e+04</td>\n",
       "      <td>1.507493e+15</td>\n",
       "      <td>1.507493e+12</td>\n",
       "      <td>3.000000e+00</td>\n",
       "      <td>2.023810e+05</td>\n",
       "      <td>1.507495e+12</td>\n",
       "      <td>4.000000e+00</td>\n",
       "      <td>1.000000e+00</td>\n",
       "      <td>1.700000e+01</td>\n",
       "      <td>1.000000e+00</td>\n",
       "      <td>2.100000e+01</td>\n",
       "      <td>2.000000e+00</td>\n",
       "    </tr>\n",
       "    <tr>\n",
       "      <th>75%</th>\n",
       "      <td>1.632610e+05</td>\n",
       "      <td>1.507749e+15</td>\n",
       "      <td>1.507749e+12</td>\n",
       "      <td>4.000000e+00</td>\n",
       "      <td>2.770670e+05</td>\n",
       "      <td>1.507751e+12</td>\n",
       "      <td>4.000000e+00</td>\n",
       "      <td>3.000000e+00</td>\n",
       "      <td>1.700000e+01</td>\n",
       "      <td>1.000000e+00</td>\n",
       "      <td>2.500000e+01</td>\n",
       "      <td>2.000000e+00</td>\n",
       "    </tr>\n",
       "    <tr>\n",
       "      <th>max</th>\n",
       "      <td>3.228960e+05</td>\n",
       "      <td>1.508211e+15</td>\n",
       "      <td>1.508211e+12</td>\n",
       "      <td>1.240000e+02</td>\n",
       "      <td>3.640460e+05</td>\n",
       "      <td>1.510603e+12</td>\n",
       "      <td>4.000000e+00</td>\n",
       "      <td>5.000000e+00</td>\n",
       "      <td>2.000000e+01</td>\n",
       "      <td>1.100000e+01</td>\n",
       "      <td>2.800000e+01</td>\n",
       "      <td>7.000000e+00</td>\n",
       "    </tr>\n",
       "  </tbody>\n",
       "</table>\n",
       "</div>"
      ],
      "text/plain": [
       "            user_id    session_id  session_start  session_size  \\\n",
       "count  2.988181e+06  2.988181e+06   2.988181e+06  2.988181e+06   \n",
       "mean   1.079478e+05  1.507472e+15   1.507472e+12  3.901885e+00   \n",
       "std    8.364836e+04  3.855245e+11   3.855245e+08  3.929941e+00   \n",
       "min    0.000000e+00  1.506825e+15   1.506825e+12  2.000000e+00   \n",
       "25%    4.034100e+04  1.507124e+15   1.507124e+12  2.000000e+00   \n",
       "50%    8.622900e+04  1.507493e+15   1.507493e+12  3.000000e+00   \n",
       "75%    1.632610e+05  1.507749e+15   1.507749e+12  4.000000e+00   \n",
       "max    3.228960e+05  1.508211e+15   1.508211e+12  1.240000e+02   \n",
       "\n",
       "       click_article_id  click_timestamp  click_environment  \\\n",
       "count      2.988181e+06     2.988181e+06       2.988181e+06   \n",
       "mean       1.949226e+05     1.507474e+12       3.942652e+00   \n",
       "std        9.076842e+04     3.858510e+08       3.396804e-01   \n",
       "min        3.000000e+00     1.506827e+12       1.000000e+00   \n",
       "25%        1.242280e+05     1.507127e+12       4.000000e+00   \n",
       "50%        2.023810e+05     1.507495e+12       4.000000e+00   \n",
       "75%        2.770670e+05     1.507751e+12       4.000000e+00   \n",
       "max        3.640460e+05     1.510603e+12       4.000000e+00   \n",
       "\n",
       "       click_deviceGroup      click_os  click_country  click_region  \\\n",
       "count       2.988181e+06  2.988181e+06   2.988181e+06  2.988181e+06   \n",
       "mean        1.819306e+00  1.327760e+01   1.357656e+00  1.831331e+01   \n",
       "std         1.042214e+00  6.881718e+00   1.725861e+00  7.064006e+00   \n",
       "min         1.000000e+00  2.000000e+00   1.000000e+00  1.000000e+00   \n",
       "25%         1.000000e+00  2.000000e+00   1.000000e+00  1.300000e+01   \n",
       "50%         1.000000e+00  1.700000e+01   1.000000e+00  2.100000e+01   \n",
       "75%         3.000000e+00  1.700000e+01   1.000000e+00  2.500000e+01   \n",
       "max         5.000000e+00  2.000000e+01   1.100000e+01  2.800000e+01   \n",
       "\n",
       "       click_referrer_type  \n",
       "count         2.988181e+06  \n",
       "mean          1.838981e+00  \n",
       "std           1.156356e+00  \n",
       "min           1.000000e+00  \n",
       "25%           1.000000e+00  \n",
       "50%           2.000000e+00  \n",
       "75%           2.000000e+00  \n",
       "max           7.000000e+00  "
      ]
     },
     "metadata": {},
     "output_type": "display_data"
    },
    {
     "name": "stdout",
     "output_type": "stream",
     "text": [
      "\n",
      "###### Boxplots des variables ######\n",
      "\n"
     ]
    },
    {
     "data": {
      "image/png": "[encoded data removed]",
      "text/plain": [
       "<Figure size 2500x1500 with 12 Axes>"
      ]
     },
     "metadata": {},
     "output_type": "display_data"
    }
   ],
   "source": [
    "analyse_exploratoire_generique(df_clicks_hour)"
   ]
  },
  {
   "cell_type": "markdown",
   "metadata": {},
   "source": [
    "### Full (fusion de articles et de cliques)"
   ]
  },
  {
   "cell_type": "code",
   "execution_count": 11,
   "metadata": {},
   "outputs": [
    {
     "name": "stdout",
     "output_type": "stream",
     "text": [
      "\n",
      "###### Informations générales ######\n",
      "\n",
      "<class 'pandas.core.frame.DataFrame'>\n",
      "RangeIndex: 2988181 entries, 0 to 2988180\n",
      "Data columns (total 16 columns):\n",
      " #   Column               Dtype\n",
      "---  ------               -----\n",
      " 0   user_id              int64\n",
      " 1   session_id           int64\n",
      " 2   session_start        int64\n",
      " 3   session_size         int64\n",
      " 4   click_article_id     int64\n",
      " 5   click_timestamp      int64\n",
      " 6   click_environment    int64\n",
      " 7   click_deviceGroup    int64\n",
      " 8   click_os             int64\n",
      " 9   click_country        int64\n",
      " 10  click_region         int64\n",
      " 11  click_referrer_type  int64\n",
      " 12  category_id          int64\n",
      " 13  created_at_ts        int64\n",
      " 14  publisher_id         int64\n",
      " 15  words_count          int64\n",
      "dtypes: int64(16)\n",
      "memory usage: 364.8 MB\n",
      "\n",
      "###### Répartition des types dans le dataset ######\n",
      "\n",
      "int64    16\n",
      "Name: count, dtype: int64\n"
     ]
    },
    {
     "data": {
      "image/png": "[encoded data removed]",
      "text/plain": [
       "<Figure size 1000x500 with 1 Axes>"
      ]
     },
     "metadata": {},
     "output_type": "display_data"
    },
    {
     "name": "stdout",
     "output_type": "stream",
     "text": [
      "\n",
      "###### Les 5 premières et dernières lignes ######\n",
      "\n"
     ]
    },
    {
     "data": {
      "text/html": [
       "<div>\n",
       "<style scoped>\n",
       "    .dataframe tbody tr th:only-of-type {\n",
       "        vertical-align: middle;\n",
       "    }\n",
       "\n",
       "    .dataframe tbody tr th {\n",
       "        vertical-align: top;\n",
       "    }\n",
       "\n",
       "    .dataframe thead th {\n",
       "        text-align: right;\n",
       "    }\n",
       "</style>\n",
       "<table border=\"1\" class=\"dataframe\">\n",
       "  <thead>\n",
       "    <tr style=\"text-align: right;\">\n",
       "      <th></th>\n",
       "      <th>user_id</th>\n",
       "      <th>session_id</th>\n",
       "      <th>session_start</th>\n",
       "      <th>session_size</th>\n",
       "      <th>click_article_id</th>\n",
       "      <th>click_timestamp</th>\n",
       "      <th>click_environment</th>\n",
       "      <th>click_deviceGroup</th>\n",
       "      <th>click_os</th>\n",
       "      <th>click_country</th>\n",
       "      <th>click_region</th>\n",
       "      <th>click_referrer_type</th>\n",
       "      <th>category_id</th>\n",
       "      <th>created_at_ts</th>\n",
       "      <th>publisher_id</th>\n",
       "      <th>words_count</th>\n",
       "    </tr>\n",
       "  </thead>\n",
       "  <tbody>\n",
       "    <tr>\n",
       "      <th>0</th>\n",
       "      <td>0</td>\n",
       "      <td>1506825423271737</td>\n",
       "      <td>1506825423000</td>\n",
       "      <td>2</td>\n",
       "      <td>157541</td>\n",
       "      <td>1506826828020</td>\n",
       "      <td>4</td>\n",
       "      <td>3</td>\n",
       "      <td>20</td>\n",
       "      <td>1</td>\n",
       "      <td>20</td>\n",
       "      <td>2</td>\n",
       "      <td>281</td>\n",
       "      <td>1506800518000</td>\n",
       "      <td>0</td>\n",
       "      <td>280</td>\n",
       "    </tr>\n",
       "    <tr>\n",
       "      <th>1</th>\n",
       "      <td>0</td>\n",
       "      <td>1506825423271737</td>\n",
       "      <td>1506825423000</td>\n",
       "      <td>2</td>\n",
       "      <td>68866</td>\n",
       "      <td>1506826858020</td>\n",
       "      <td>4</td>\n",
       "      <td>3</td>\n",
       "      <td>20</td>\n",
       "      <td>1</td>\n",
       "      <td>20</td>\n",
       "      <td>2</td>\n",
       "      <td>136</td>\n",
       "      <td>1506816482000</td>\n",
       "      <td>0</td>\n",
       "      <td>226</td>\n",
       "    </tr>\n",
       "    <tr>\n",
       "      <th>2</th>\n",
       "      <td>1</td>\n",
       "      <td>1506825426267738</td>\n",
       "      <td>1506825426000</td>\n",
       "      <td>2</td>\n",
       "      <td>235840</td>\n",
       "      <td>1506827017951</td>\n",
       "      <td>4</td>\n",
       "      <td>1</td>\n",
       "      <td>17</td>\n",
       "      <td>1</td>\n",
       "      <td>16</td>\n",
       "      <td>2</td>\n",
       "      <td>375</td>\n",
       "      <td>1506807839000</td>\n",
       "      <td>0</td>\n",
       "      <td>159</td>\n",
       "    </tr>\n",
       "    <tr>\n",
       "      <th>3</th>\n",
       "      <td>1</td>\n",
       "      <td>1506825426267738</td>\n",
       "      <td>1506825426000</td>\n",
       "      <td>2</td>\n",
       "      <td>96663</td>\n",
       "      <td>1506827047951</td>\n",
       "      <td>4</td>\n",
       "      <td>1</td>\n",
       "      <td>17</td>\n",
       "      <td>1</td>\n",
       "      <td>16</td>\n",
       "      <td>2</td>\n",
       "      <td>209</td>\n",
       "      <td>1506788025000</td>\n",
       "      <td>0</td>\n",
       "      <td>206</td>\n",
       "    </tr>\n",
       "    <tr>\n",
       "      <th>4</th>\n",
       "      <td>2</td>\n",
       "      <td>1506825435299739</td>\n",
       "      <td>1506825435000</td>\n",
       "      <td>2</td>\n",
       "      <td>119592</td>\n",
       "      <td>1506827090575</td>\n",
       "      <td>4</td>\n",
       "      <td>1</td>\n",
       "      <td>17</td>\n",
       "      <td>1</td>\n",
       "      <td>24</td>\n",
       "      <td>2</td>\n",
       "      <td>247</td>\n",
       "      <td>1506784316000</td>\n",
       "      <td>0</td>\n",
       "      <td>239</td>\n",
       "    </tr>\n",
       "  </tbody>\n",
       "</table>\n",
       "</div>"
      ],
      "text/plain": [
       "   user_id        session_id  session_start  session_size  click_article_id  \\\n",
       "0        0  1506825423271737  1506825423000             2            157541   \n",
       "1        0  1506825423271737  1506825423000             2             68866   \n",
       "2        1  1506825426267738  1506825426000             2            235840   \n",
       "3        1  1506825426267738  1506825426000             2             96663   \n",
       "4        2  1506825435299739  1506825435000             2            119592   \n",
       "\n",
       "   click_timestamp  click_environment  click_deviceGroup  click_os  \\\n",
       "0    1506826828020                  4                  3        20   \n",
       "1    1506826858020                  4                  3        20   \n",
       "2    1506827017951                  4                  1        17   \n",
       "3    1506827047951                  4                  1        17   \n",
       "4    1506827090575                  4                  1        17   \n",
       "\n",
       "   click_country  click_region  click_referrer_type  category_id  \\\n",
       "0              1            20                    2          281   \n",
       "1              1            20                    2          136   \n",
       "2              1            16                    2          375   \n",
       "3              1            16                    2          209   \n",
       "4              1            24                    2          247   \n",
       "\n",
       "   created_at_ts  publisher_id  words_count  \n",
       "0  1506800518000             0          280  \n",
       "1  1506816482000             0          226  \n",
       "2  1506807839000             0          159  \n",
       "3  1506788025000             0          206  \n",
       "4  1506784316000             0          239  "
      ]
     },
     "metadata": {},
     "output_type": "display_data"
    },
    {
     "data": {
      "text/html": [
       "<div>\n",
       "<style scoped>\n",
       "    .dataframe tbody tr th:only-of-type {\n",
       "        vertical-align: middle;\n",
       "    }\n",
       "\n",
       "    .dataframe tbody tr th {\n",
       "        vertical-align: top;\n",
       "    }\n",
       "\n",
       "    .dataframe thead th {\n",
       "        text-align: right;\n",
       "    }\n",
       "</style>\n",
       "<table border=\"1\" class=\"dataframe\">\n",
       "  <thead>\n",
       "    <tr style=\"text-align: right;\">\n",
       "      <th></th>\n",
       "      <th>user_id</th>\n",
       "      <th>session_id</th>\n",
       "      <th>session_start</th>\n",
       "      <th>session_size</th>\n",
       "      <th>click_article_id</th>\n",
       "      <th>click_timestamp</th>\n",
       "      <th>click_environment</th>\n",
       "      <th>click_deviceGroup</th>\n",
       "      <th>click_os</th>\n",
       "      <th>click_country</th>\n",
       "      <th>click_region</th>\n",
       "      <th>click_referrer_type</th>\n",
       "      <th>category_id</th>\n",
       "      <th>created_at_ts</th>\n",
       "      <th>publisher_id</th>\n",
       "      <th>words_count</th>\n",
       "    </tr>\n",
       "  </thead>\n",
       "  <tbody>\n",
       "    <tr>\n",
       "      <th>2988176</th>\n",
       "      <td>10051</td>\n",
       "      <td>1508211372158328</td>\n",
       "      <td>1508211372000</td>\n",
       "      <td>2</td>\n",
       "      <td>84911</td>\n",
       "      <td>1508211557302</td>\n",
       "      <td>4</td>\n",
       "      <td>3</td>\n",
       "      <td>2</td>\n",
       "      <td>1</td>\n",
       "      <td>25</td>\n",
       "      <td>1</td>\n",
       "      <td>174</td>\n",
       "      <td>1508187619000</td>\n",
       "      <td>0</td>\n",
       "      <td>171</td>\n",
       "    </tr>\n",
       "    <tr>\n",
       "      <th>2988177</th>\n",
       "      <td>322896</td>\n",
       "      <td>1508211376302329</td>\n",
       "      <td>1508211376000</td>\n",
       "      <td>2</td>\n",
       "      <td>30760</td>\n",
       "      <td>1508211672520</td>\n",
       "      <td>4</td>\n",
       "      <td>1</td>\n",
       "      <td>17</td>\n",
       "      <td>1</td>\n",
       "      <td>25</td>\n",
       "      <td>2</td>\n",
       "      <td>26</td>\n",
       "      <td>1508185091000</td>\n",
       "      <td>0</td>\n",
       "      <td>162</td>\n",
       "    </tr>\n",
       "    <tr>\n",
       "      <th>2988178</th>\n",
       "      <td>322896</td>\n",
       "      <td>1508211376302329</td>\n",
       "      <td>1508211376000</td>\n",
       "      <td>2</td>\n",
       "      <td>157507</td>\n",
       "      <td>1508211702520</td>\n",
       "      <td>4</td>\n",
       "      <td>1</td>\n",
       "      <td>17</td>\n",
       "      <td>1</td>\n",
       "      <td>25</td>\n",
       "      <td>2</td>\n",
       "      <td>281</td>\n",
       "      <td>1508236945000</td>\n",
       "      <td>0</td>\n",
       "      <td>370</td>\n",
       "    </tr>\n",
       "    <tr>\n",
       "      <th>2988179</th>\n",
       "      <td>123718</td>\n",
       "      <td>1508211379189330</td>\n",
       "      <td>1508211379000</td>\n",
       "      <td>2</td>\n",
       "      <td>234481</td>\n",
       "      <td>1508211513583</td>\n",
       "      <td>4</td>\n",
       "      <td>3</td>\n",
       "      <td>2</td>\n",
       "      <td>1</td>\n",
       "      <td>25</td>\n",
       "      <td>2</td>\n",
       "      <td>375</td>\n",
       "      <td>1508181572000</td>\n",
       "      <td>0</td>\n",
       "      <td>212</td>\n",
       "    </tr>\n",
       "    <tr>\n",
       "      <th>2988180</th>\n",
       "      <td>123718</td>\n",
       "      <td>1508211379189330</td>\n",
       "      <td>1508211379000</td>\n",
       "      <td>2</td>\n",
       "      <td>233578</td>\n",
       "      <td>1508211543583</td>\n",
       "      <td>4</td>\n",
       "      <td>3</td>\n",
       "      <td>2</td>\n",
       "      <td>1</td>\n",
       "      <td>25</td>\n",
       "      <td>2</td>\n",
       "      <td>375</td>\n",
       "      <td>1508176010000</td>\n",
       "      <td>0</td>\n",
       "      <td>174</td>\n",
       "    </tr>\n",
       "  </tbody>\n",
       "</table>\n",
       "</div>"
      ],
      "text/plain": [
       "         user_id        session_id  session_start  session_size  \\\n",
       "2988176    10051  1508211372158328  1508211372000             2   \n",
       "2988177   322896  1508211376302329  1508211376000             2   \n",
       "2988178   322896  1508211376302329  1508211376000             2   \n",
       "2988179   123718  1508211379189330  1508211379000             2   \n",
       "2988180   123718  1508211379189330  1508211379000             2   \n",
       "\n",
       "         click_article_id  click_timestamp  click_environment  \\\n",
       "2988176             84911    1508211557302                  4   \n",
       "2988177             30760    1508211672520                  4   \n",
       "2988178            157507    1508211702520                  4   \n",
       "2988179            234481    1508211513583                  4   \n",
       "2988180            233578    1508211543583                  4   \n",
       "\n",
       "         click_deviceGroup  click_os  click_country  click_region  \\\n",
       "2988176                  3         2              1            25   \n",
       "2988177                  1        17              1            25   \n",
       "2988178                  1        17              1            25   \n",
       "2988179                  3         2              1            25   \n",
       "2988180                  3         2              1            25   \n",
       "\n",
       "         click_referrer_type  category_id  created_at_ts  publisher_id  \\\n",
       "2988176                    1          174  1508187619000             0   \n",
       "2988177                    2           26  1508185091000             0   \n",
       "2988178                    2          281  1508236945000             0   \n",
       "2988179                    2          375  1508181572000             0   \n",
       "2988180                    2          375  1508176010000             0   \n",
       "\n",
       "         words_count  \n",
       "2988176          171  \n",
       "2988177          162  \n",
       "2988178          370  \n",
       "2988179          212  \n",
       "2988180          174  "
      ]
     },
     "metadata": {},
     "output_type": "display_data"
    },
    {
     "name": "stdout",
     "output_type": "stream",
     "text": [
      "\n",
      "###### Nombre de valeurs uniques ######\n",
      "\n"
     ]
    },
    {
     "data": {
      "text/html": [
       "<div>\n",
       "<style scoped>\n",
       "    .dataframe tbody tr th:only-of-type {\n",
       "        vertical-align: middle;\n",
       "    }\n",
       "\n",
       "    .dataframe tbody tr th {\n",
       "        vertical-align: top;\n",
       "    }\n",
       "\n",
       "    .dataframe thead th {\n",
       "        text-align: right;\n",
       "    }\n",
       "</style>\n",
       "<table border=\"1\" class=\"dataframe\">\n",
       "  <thead>\n",
       "    <tr style=\"text-align: right;\">\n",
       "      <th></th>\n",
       "      <th>user_id</th>\n",
       "      <th>session_id</th>\n",
       "      <th>session_start</th>\n",
       "      <th>session_size</th>\n",
       "      <th>click_article_id</th>\n",
       "      <th>click_timestamp</th>\n",
       "      <th>click_environment</th>\n",
       "      <th>click_deviceGroup</th>\n",
       "      <th>click_os</th>\n",
       "      <th>click_country</th>\n",
       "      <th>click_region</th>\n",
       "      <th>click_referrer_type</th>\n",
       "      <th>category_id</th>\n",
       "      <th>created_at_ts</th>\n",
       "      <th>publisher_id</th>\n",
       "      <th>words_count</th>\n",
       "    </tr>\n",
       "  </thead>\n",
       "  <tbody>\n",
       "    <tr>\n",
       "      <th>0</th>\n",
       "      <td>322897</td>\n",
       "      <td>1048594</td>\n",
       "      <td>646874</td>\n",
       "      <td>72</td>\n",
       "      <td>46033</td>\n",
       "      <td>2983198</td>\n",
       "      <td>3</td>\n",
       "      <td>5</td>\n",
       "      <td>8</td>\n",
       "      <td>11</td>\n",
       "      <td>28</td>\n",
       "      <td>7</td>\n",
       "      <td>316</td>\n",
       "      <td>45785</td>\n",
       "      <td>1</td>\n",
       "      <td>536</td>\n",
       "    </tr>\n",
       "  </tbody>\n",
       "</table>\n",
       "</div>"
      ],
      "text/plain": [
       "   user_id  session_id  session_start  session_size  click_article_id  \\\n",
       "0   322897     1048594         646874            72             46033   \n",
       "\n",
       "   click_timestamp  click_environment  click_deviceGroup  click_os  \\\n",
       "0          2983198                  3                  5         8   \n",
       "\n",
       "   click_country  click_region  click_referrer_type  category_id  \\\n",
       "0             11            28                    7          316   \n",
       "\n",
       "   created_at_ts  publisher_id  words_count  \n",
       "0          45785             1          536  "
      ]
     },
     "metadata": {},
     "output_type": "display_data"
    },
    {
     "name": "stdout",
     "output_type": "stream",
     "text": [
      "\n",
      "###### Doublons génériques (toutes les variables sont utilisées) ######\n",
      "\n"
     ]
    },
    {
     "data": {
      "text/plain": [
       "np.int64(0)"
      ]
     },
     "metadata": {},
     "output_type": "display_data"
    },
    {
     "name": "stdout",
     "output_type": "stream",
     "text": [
      "\n",
      "###### Doublons sans l'index ######\n",
      "\n"
     ]
    },
    {
     "data": {
      "text/plain": [
       "np.int64(0)"
      ]
     },
     "metadata": {},
     "output_type": "display_data"
    },
    {
     "name": "stdout",
     "output_type": "stream",
     "text": [
      "\n",
      "###### Informations du taux de remplissage ######\n",
      "\n"
     ]
    },
    {
     "data": {
      "image/png": "[encoded data removed]",
      "text/plain": [
       "<Figure size 2500x500 with 1 Axes>"
      ]
     },
     "metadata": {},
     "output_type": "display_data"
    },
    {
     "name": "stdout",
     "output_type": "stream",
     "text": [
      "\n",
      "###### Statistiques descriptives ######\n",
      "\n"
     ]
    },
    {
     "data": {
      "text/html": [
       "<div>\n",
       "<style scoped>\n",
       "    .dataframe tbody tr th:only-of-type {\n",
       "        vertical-align: middle;\n",
       "    }\n",
       "\n",
       "    .dataframe tbody tr th {\n",
       "        vertical-align: top;\n",
       "    }\n",
       "\n",
       "    .dataframe thead th {\n",
       "        text-align: right;\n",
       "    }\n",
       "</style>\n",
       "<table border=\"1\" class=\"dataframe\">\n",
       "  <thead>\n",
       "    <tr style=\"text-align: right;\">\n",
       "      <th></th>\n",
       "      <th>user_id</th>\n",
       "      <th>session_id</th>\n",
       "      <th>session_start</th>\n",
       "      <th>session_size</th>\n",
       "      <th>click_article_id</th>\n",
       "      <th>click_timestamp</th>\n",
       "      <th>click_environment</th>\n",
       "      <th>click_deviceGroup</th>\n",
       "      <th>click_os</th>\n",
       "      <th>click_country</th>\n",
       "      <th>click_region</th>\n",
       "      <th>click_referrer_type</th>\n",
       "      <th>category_id</th>\n",
       "      <th>created_at_ts</th>\n",
       "      <th>publisher_id</th>\n",
       "      <th>words_count</th>\n",
       "    </tr>\n",
       "  </thead>\n",
       "  <tbody>\n",
       "    <tr>\n",
       "      <th>count</th>\n",
       "      <td>2.988181e+06</td>\n",
       "      <td>2.988181e+06</td>\n",
       "      <td>2.988181e+06</td>\n",
       "      <td>2.988181e+06</td>\n",
       "      <td>2.988181e+06</td>\n",
       "      <td>2.988181e+06</td>\n",
       "      <td>2.988181e+06</td>\n",
       "      <td>2.988181e+06</td>\n",
       "      <td>2.988181e+06</td>\n",
       "      <td>2.988181e+06</td>\n",
       "      <td>2.988181e+06</td>\n",
       "      <td>2.988181e+06</td>\n",
       "      <td>2.988181e+06</td>\n",
       "      <td>2.988181e+06</td>\n",
       "      <td>2988181.0</td>\n",
       "      <td>2.988181e+06</td>\n",
       "    </tr>\n",
       "    <tr>\n",
       "      <th>mean</th>\n",
       "      <td>1.079478e+05</td>\n",
       "      <td>1.507472e+15</td>\n",
       "      <td>1.507472e+12</td>\n",
       "      <td>3.901885e+00</td>\n",
       "      <td>1.949226e+05</td>\n",
       "      <td>1.507474e+12</td>\n",
       "      <td>3.942652e+00</td>\n",
       "      <td>1.819306e+00</td>\n",
       "      <td>1.327760e+01</td>\n",
       "      <td>1.357656e+00</td>\n",
       "      <td>1.831331e+01</td>\n",
       "      <td>1.838981e+00</td>\n",
       "      <td>3.059382e+02</td>\n",
       "      <td>1.506751e+12</td>\n",
       "      <td>0.0</td>\n",
       "      <td>2.086283e+02</td>\n",
       "    </tr>\n",
       "    <tr>\n",
       "      <th>std</th>\n",
       "      <td>8.364836e+04</td>\n",
       "      <td>3.855245e+11</td>\n",
       "      <td>3.855245e+08</td>\n",
       "      <td>3.929941e+00</td>\n",
       "      <td>9.076842e+04</td>\n",
       "      <td>3.858510e+08</td>\n",
       "      <td>3.396804e-01</td>\n",
       "      <td>1.042214e+00</td>\n",
       "      <td>6.881718e+00</td>\n",
       "      <td>1.725861e+00</td>\n",
       "      <td>7.064006e+00</td>\n",
       "      <td>1.156356e+00</td>\n",
       "      <td>1.130805e+02</td>\n",
       "      <td>7.068639e+09</td>\n",
       "      <td>0.0</td>\n",
       "      <td>8.160152e+01</td>\n",
       "    </tr>\n",
       "    <tr>\n",
       "      <th>min</th>\n",
       "      <td>0.000000e+00</td>\n",
       "      <td>1.506825e+15</td>\n",
       "      <td>1.506825e+12</td>\n",
       "      <td>2.000000e+00</td>\n",
       "      <td>3.000000e+00</td>\n",
       "      <td>1.506827e+12</td>\n",
       "      <td>1.000000e+00</td>\n",
       "      <td>1.000000e+00</td>\n",
       "      <td>2.000000e+00</td>\n",
       "      <td>1.000000e+00</td>\n",
       "      <td>1.000000e+00</td>\n",
       "      <td>1.000000e+00</td>\n",
       "      <td>1.000000e+00</td>\n",
       "      <td>1.166573e+12</td>\n",
       "      <td>0.0</td>\n",
       "      <td>0.000000e+00</td>\n",
       "    </tr>\n",
       "    <tr>\n",
       "      <th>25%</th>\n",
       "      <td>4.034100e+04</td>\n",
       "      <td>1.507124e+15</td>\n",
       "      <td>1.507124e+12</td>\n",
       "      <td>2.000000e+00</td>\n",
       "      <td>1.242280e+05</td>\n",
       "      <td>1.507127e+12</td>\n",
       "      <td>4.000000e+00</td>\n",
       "      <td>1.000000e+00</td>\n",
       "      <td>2.000000e+00</td>\n",
       "      <td>1.000000e+00</td>\n",
       "      <td>1.300000e+01</td>\n",
       "      <td>1.000000e+00</td>\n",
       "      <td>2.500000e+02</td>\n",
       "      <td>1.507053e+12</td>\n",
       "      <td>0.0</td>\n",
       "      <td>1.730000e+02</td>\n",
       "    </tr>\n",
       "    <tr>\n",
       "      <th>50%</th>\n",
       "      <td>8.622900e+04</td>\n",
       "      <td>1.507493e+15</td>\n",
       "      <td>1.507493e+12</td>\n",
       "      <td>3.000000e+00</td>\n",
       "      <td>2.023810e+05</td>\n",
       "      <td>1.507495e+12</td>\n",
       "      <td>4.000000e+00</td>\n",
       "      <td>1.000000e+00</td>\n",
       "      <td>1.700000e+01</td>\n",
       "      <td>1.000000e+00</td>\n",
       "      <td>2.100000e+01</td>\n",
       "      <td>2.000000e+00</td>\n",
       "      <td>3.270000e+02</td>\n",
       "      <td>1.507403e+12</td>\n",
       "      <td>0.0</td>\n",
       "      <td>1.980000e+02</td>\n",
       "    </tr>\n",
       "    <tr>\n",
       "      <th>75%</th>\n",
       "      <td>1.632610e+05</td>\n",
       "      <td>1.507749e+15</td>\n",
       "      <td>1.507749e+12</td>\n",
       "      <td>4.000000e+00</td>\n",
       "      <td>2.770670e+05</td>\n",
       "      <td>1.507751e+12</td>\n",
       "      <td>4.000000e+00</td>\n",
       "      <td>3.000000e+00</td>\n",
       "      <td>1.700000e+01</td>\n",
       "      <td>1.000000e+00</td>\n",
       "      <td>2.500000e+01</td>\n",
       "      <td>2.000000e+00</td>\n",
       "      <td>4.090000e+02</td>\n",
       "      <td>1.507717e+12</td>\n",
       "      <td>0.0</td>\n",
       "      <td>2.320000e+02</td>\n",
       "    </tr>\n",
       "    <tr>\n",
       "      <th>max</th>\n",
       "      <td>3.228960e+05</td>\n",
       "      <td>1.508211e+15</td>\n",
       "      <td>1.508211e+12</td>\n",
       "      <td>1.240000e+02</td>\n",
       "      <td>3.640460e+05</td>\n",
       "      <td>1.510603e+12</td>\n",
       "      <td>4.000000e+00</td>\n",
       "      <td>5.000000e+00</td>\n",
       "      <td>2.000000e+01</td>\n",
       "      <td>1.100000e+01</td>\n",
       "      <td>2.800000e+01</td>\n",
       "      <td>7.000000e+00</td>\n",
       "      <td>4.600000e+02</td>\n",
       "      <td>1.510666e+12</td>\n",
       "      <td>0.0</td>\n",
       "      <td>6.690000e+03</td>\n",
       "    </tr>\n",
       "  </tbody>\n",
       "</table>\n",
       "</div>"
      ],
      "text/plain": [
       "            user_id    session_id  session_start  session_size  \\\n",
       "count  2.988181e+06  2.988181e+06   2.988181e+06  2.988181e+06   \n",
       "mean   1.079478e+05  1.507472e+15   1.507472e+12  3.901885e+00   \n",
       "std    8.364836e+04  3.855245e+11   3.855245e+08  3.929941e+00   \n",
       "min    0.000000e+00  1.506825e+15   1.506825e+12  2.000000e+00   \n",
       "25%    4.034100e+04  1.507124e+15   1.507124e+12  2.000000e+00   \n",
       "50%    8.622900e+04  1.507493e+15   1.507493e+12  3.000000e+00   \n",
       "75%    1.632610e+05  1.507749e+15   1.507749e+12  4.000000e+00   \n",
       "max    3.228960e+05  1.508211e+15   1.508211e+12  1.240000e+02   \n",
       "\n",
       "       click_article_id  click_timestamp  click_environment  \\\n",
       "count      2.988181e+06     2.988181e+06       2.988181e+06   \n",
       "mean       1.949226e+05     1.507474e+12       3.942652e+00   \n",
       "std        9.076842e+04     3.858510e+08       3.396804e-01   \n",
       "min        3.000000e+00     1.506827e+12       1.000000e+00   \n",
       "25%        1.242280e+05     1.507127e+12       4.000000e+00   \n",
       "50%        2.023810e+05     1.507495e+12       4.000000e+00   \n",
       "75%        2.770670e+05     1.507751e+12       4.000000e+00   \n",
       "max        3.640460e+05     1.510603e+12       4.000000e+00   \n",
       "\n",
       "       click_deviceGroup      click_os  click_country  click_region  \\\n",
       "count       2.988181e+06  2.988181e+06   2.988181e+06  2.988181e+06   \n",
       "mean        1.819306e+00  1.327760e+01   1.357656e+00  1.831331e+01   \n",
       "std         1.042214e+00  6.881718e+00   1.725861e+00  7.064006e+00   \n",
       "min         1.000000e+00  2.000000e+00   1.000000e+00  1.000000e+00   \n",
       "25%         1.000000e+00  2.000000e+00   1.000000e+00  1.300000e+01   \n",
       "50%         1.000000e+00  1.700000e+01   1.000000e+00  2.100000e+01   \n",
       "75%         3.000000e+00  1.700000e+01   1.000000e+00  2.500000e+01   \n",
       "max         5.000000e+00  2.000000e+01   1.100000e+01  2.800000e+01   \n",
       "\n",
       "       click_referrer_type   category_id  created_at_ts  publisher_id  \\\n",
       "count         2.988181e+06  2.988181e+06   2.988181e+06     2988181.0   \n",
       "mean          1.838981e+00  3.059382e+02   1.506751e+12           0.0   \n",
       "std           1.156356e+00  1.130805e+02   7.068639e+09           0.0   \n",
       "min           1.000000e+00  1.000000e+00   1.166573e+12           0.0   \n",
       "25%           1.000000e+00  2.500000e+02   1.507053e+12           0.0   \n",
       "50%           2.000000e+00  3.270000e+02   1.507403e+12           0.0   \n",
       "75%           2.000000e+00  4.090000e+02   1.507717e+12           0.0   \n",
       "max           7.000000e+00  4.600000e+02   1.510666e+12           0.0   \n",
       "\n",
       "        words_count  \n",
       "count  2.988181e+06  \n",
       "mean   2.086283e+02  \n",
       "std    8.160152e+01  \n",
       "min    0.000000e+00  \n",
       "25%    1.730000e+02  \n",
       "50%    1.980000e+02  \n",
       "75%    2.320000e+02  \n",
       "max    6.690000e+03  "
      ]
     },
     "metadata": {},
     "output_type": "display_data"
    },
    {
     "name": "stdout",
     "output_type": "stream",
     "text": [
      "\n",
      "###### Boxplots des variables ######\n",
      "\n"
     ]
    },
    {
     "data": {
      "image/png": "[encoded data removed]",
      "text/plain": [
       "<Figure size 2500x2000 with 16 Axes>"
      ]
     },
     "metadata": {},
     "output_type": "display_data"
    }
   ],
   "source": [
    "analyse_exploratoire_generique(df_full)"
   ]
  },
  {
   "cell_type": "code",
   "execution_count": 12,
   "metadata": {},
   "outputs": [
    {
     "name": "stdout",
     "output_type": "stream",
     "text": [
      "\n",
      "###### Informations générales ######\n",
      "\n",
      "<class 'pandas.core.frame.DataFrame'>\n",
      "RangeIndex: 364047 entries, 0 to 364046\n",
      "Columns: 250 entries, 0 to 249\n",
      "dtypes: float32(250)\n",
      "memory usage: 347.2 MB\n",
      "\n",
      "###### Répartition des types dans le dataset ######\n",
      "\n",
      "float32    250\n",
      "Name: count, dtype: int64\n"
     ]
    },
    {
     "data": {
      "image/png": "[encoded data removed]",
      "text/plain": [
       "<Figure size 1000x500 with 1 Axes>"
      ]
     },
     "metadata": {},
     "output_type": "display_data"
    },
    {
     "name": "stdout",
     "output_type": "stream",
     "text": [
      "\n",
      "###### Les 5 premières et dernières lignes ######\n",
      "\n"
     ]
    },
    {
     "data": {
      "text/html": [
       "<div>\n",
       "<style scoped>\n",
       "    .dataframe tbody tr th:only-of-type {\n",
       "        vertical-align: middle;\n",
       "    }\n",
       "\n",
       "    .dataframe tbody tr th {\n",
       "        vertical-align: top;\n",
       "    }\n",
       "\n",
       "    .dataframe thead th {\n",
       "        text-align: right;\n",
       "    }\n",
       "</style>\n",
       "<table border=\"1\" class=\"dataframe\">\n",
       "  <thead>\n",
       "    <tr style=\"text-align: right;\">\n",
       "      <th></th>\n",
       "      <th>0</th>\n",
       "      <th>1</th>\n",
       "      <th>2</th>\n",
       "      <th>3</th>\n",
       "      <th>4</th>\n",
       "      <th>5</th>\n",
       "      <th>6</th>\n",
       "      <th>7</th>\n",
       "      <th>8</th>\n",
       "      <th>9</th>\n",
       "      <th>...</th>\n",
       "      <th>240</th>\n",
       "      <th>241</th>\n",
       "      <th>242</th>\n",
       "      <th>243</th>\n",
       "      <th>244</th>\n",
       "      <th>245</th>\n",
       "      <th>246</th>\n",
       "      <th>247</th>\n",
       "      <th>248</th>\n",
       "      <th>249</th>\n",
       "    </tr>\n",
       "  </thead>\n",
       "  <tbody>\n",
       "    <tr>\n",
       "      <th>0</th>\n",
       "      <td>-0.161183</td>\n",
       "      <td>-0.957233</td>\n",
       "      <td>-0.137944</td>\n",
       "      <td>0.050855</td>\n",
       "      <td>0.830055</td>\n",
       "      <td>0.901365</td>\n",
       "      <td>-0.335148</td>\n",
       "      <td>-0.559561</td>\n",
       "      <td>-0.500603</td>\n",
       "      <td>0.165183</td>\n",
       "      <td>...</td>\n",
       "      <td>0.321248</td>\n",
       "      <td>0.313999</td>\n",
       "      <td>0.636412</td>\n",
       "      <td>0.169179</td>\n",
       "      <td>0.540524</td>\n",
       "      <td>-0.813182</td>\n",
       "      <td>0.286870</td>\n",
       "      <td>-0.231686</td>\n",
       "      <td>0.597416</td>\n",
       "      <td>0.409623</td>\n",
       "    </tr>\n",
       "    <tr>\n",
       "      <th>1</th>\n",
       "      <td>-0.523216</td>\n",
       "      <td>-0.974058</td>\n",
       "      <td>0.738608</td>\n",
       "      <td>0.155234</td>\n",
       "      <td>0.626294</td>\n",
       "      <td>0.485297</td>\n",
       "      <td>-0.715657</td>\n",
       "      <td>-0.897996</td>\n",
       "      <td>-0.359747</td>\n",
       "      <td>0.398246</td>\n",
       "      <td>...</td>\n",
       "      <td>-0.487843</td>\n",
       "      <td>0.823124</td>\n",
       "      <td>0.412688</td>\n",
       "      <td>-0.338654</td>\n",
       "      <td>0.320787</td>\n",
       "      <td>0.588643</td>\n",
       "      <td>-0.594137</td>\n",
       "      <td>0.182828</td>\n",
       "      <td>0.397090</td>\n",
       "      <td>-0.834364</td>\n",
       "    </tr>\n",
       "    <tr>\n",
       "      <th>2</th>\n",
       "      <td>-0.619619</td>\n",
       "      <td>-0.972960</td>\n",
       "      <td>-0.207360</td>\n",
       "      <td>-0.128861</td>\n",
       "      <td>0.044748</td>\n",
       "      <td>-0.387535</td>\n",
       "      <td>-0.730477</td>\n",
       "      <td>-0.066126</td>\n",
       "      <td>-0.754899</td>\n",
       "      <td>-0.242004</td>\n",
       "      <td>...</td>\n",
       "      <td>0.454756</td>\n",
       "      <td>0.473184</td>\n",
       "      <td>0.377866</td>\n",
       "      <td>-0.863887</td>\n",
       "      <td>-0.383365</td>\n",
       "      <td>0.137721</td>\n",
       "      <td>-0.810877</td>\n",
       "      <td>-0.447580</td>\n",
       "      <td>0.805932</td>\n",
       "      <td>-0.285284</td>\n",
       "    </tr>\n",
       "    <tr>\n",
       "      <th>3</th>\n",
       "      <td>-0.740843</td>\n",
       "      <td>-0.975749</td>\n",
       "      <td>0.391698</td>\n",
       "      <td>0.641738</td>\n",
       "      <td>-0.268645</td>\n",
       "      <td>0.191745</td>\n",
       "      <td>-0.825593</td>\n",
       "      <td>-0.710591</td>\n",
       "      <td>-0.040099</td>\n",
       "      <td>-0.110514</td>\n",
       "      <td>...</td>\n",
       "      <td>0.271535</td>\n",
       "      <td>0.036040</td>\n",
       "      <td>0.480029</td>\n",
       "      <td>-0.763173</td>\n",
       "      <td>0.022627</td>\n",
       "      <td>0.565165</td>\n",
       "      <td>-0.910286</td>\n",
       "      <td>-0.537838</td>\n",
       "      <td>0.243541</td>\n",
       "      <td>-0.885329</td>\n",
       "    </tr>\n",
       "    <tr>\n",
       "      <th>4</th>\n",
       "      <td>-0.279052</td>\n",
       "      <td>-0.972315</td>\n",
       "      <td>0.685374</td>\n",
       "      <td>0.113056</td>\n",
       "      <td>0.238315</td>\n",
       "      <td>0.271913</td>\n",
       "      <td>-0.568816</td>\n",
       "      <td>0.341194</td>\n",
       "      <td>-0.600554</td>\n",
       "      <td>-0.125644</td>\n",
       "      <td>...</td>\n",
       "      <td>0.238286</td>\n",
       "      <td>0.809268</td>\n",
       "      <td>0.427521</td>\n",
       "      <td>-0.615932</td>\n",
       "      <td>-0.503697</td>\n",
       "      <td>0.614450</td>\n",
       "      <td>-0.917760</td>\n",
       "      <td>-0.424061</td>\n",
       "      <td>0.185484</td>\n",
       "      <td>-0.580292</td>\n",
       "    </tr>\n",
       "  </tbody>\n",
       "</table>\n",
       "<p>5 rows × 250 columns</p>\n",
       "</div>"
      ],
      "text/plain": [
       "        0         1         2         3         4         5         6    \\\n",
       "0 -0.161183 -0.957233 -0.137944  0.050855  0.830055  0.901365 -0.335148   \n",
       "1 -0.523216 -0.974058  0.738608  0.155234  0.626294  0.485297 -0.715657   \n",
       "2 -0.619619 -0.972960 -0.207360 -0.128861  0.044748 -0.387535 -0.730477   \n",
       "3 -0.740843 -0.975749  0.391698  0.641738 -0.268645  0.191745 -0.825593   \n",
       "4 -0.279052 -0.972315  0.685374  0.113056  0.238315  0.271913 -0.568816   \n",
       "\n",
       "        7         8         9    ...       240       241       242       243  \\\n",
       "0 -0.559561 -0.500603  0.165183  ...  0.321248  0.313999  0.636412  0.169179   \n",
       "1 -0.897996 -0.359747  0.398246  ... -0.487843  0.823124  0.412688 -0.338654   \n",
       "2 -0.066126 -0.754899 -0.242004  ...  0.454756  0.473184  0.377866 -0.863887   \n",
       "3 -0.710591 -0.040099 -0.110514  ...  0.271535  0.036040  0.480029 -0.763173   \n",
       "4  0.341194 -0.600554 -0.125644  ...  0.238286  0.809268  0.427521 -0.615932   \n",
       "\n",
       "        244       245       246       247       248       249  \n",
       "0  0.540524 -0.813182  0.286870 -0.231686  0.597416  0.409623  \n",
       "1  0.320787  0.588643 -0.594137  0.182828  0.397090 -0.834364  \n",
       "2 -0.383365  0.137721 -0.810877 -0.447580  0.805932 -0.285284  \n",
       "3  0.022627  0.565165 -0.910286 -0.537838  0.243541 -0.885329  \n",
       "4 -0.503697  0.614450 -0.917760 -0.424061  0.185484 -0.580292  \n",
       "\n",
       "[5 rows x 250 columns]"
      ]
     },
     "metadata": {},
     "output_type": "display_data"
    },
    {
     "data": {
      "text/html": [
       "<div>\n",
       "<style scoped>\n",
       "    .dataframe tbody tr th:only-of-type {\n",
       "        vertical-align: middle;\n",
       "    }\n",
       "\n",
       "    .dataframe tbody tr th {\n",
       "        vertical-align: top;\n",
       "    }\n",
       "\n",
       "    .dataframe thead th {\n",
       "        text-align: right;\n",
       "    }\n",
       "</style>\n",
       "<table border=\"1\" class=\"dataframe\">\n",
       "  <thead>\n",
       "    <tr style=\"text-align: right;\">\n",
       "      <th></th>\n",
       "      <th>0</th>\n",
       "      <th>1</th>\n",
       "      <th>2</th>\n",
       "      <th>3</th>\n",
       "      <th>4</th>\n",
       "      <th>5</th>\n",
       "      <th>6</th>\n",
       "      <th>7</th>\n",
       "      <th>8</th>\n",
       "      <th>9</th>\n",
       "      <th>...</th>\n",
       "      <th>240</th>\n",
       "      <th>241</th>\n",
       "      <th>242</th>\n",
       "      <th>243</th>\n",
       "      <th>244</th>\n",
       "      <th>245</th>\n",
       "      <th>246</th>\n",
       "      <th>247</th>\n",
       "      <th>248</th>\n",
       "      <th>249</th>\n",
       "    </tr>\n",
       "  </thead>\n",
       "  <tbody>\n",
       "    <tr>\n",
       "      <th>364042</th>\n",
       "      <td>-0.055038</td>\n",
       "      <td>-0.962136</td>\n",
       "      <td>0.869436</td>\n",
       "      <td>-0.071523</td>\n",
       "      <td>-0.725294</td>\n",
       "      <td>0.434320</td>\n",
       "      <td>0.198312</td>\n",
       "      <td>-0.581154</td>\n",
       "      <td>0.702346</td>\n",
       "      <td>-0.124813</td>\n",
       "      <td>...</td>\n",
       "      <td>-0.410549</td>\n",
       "      <td>0.564252</td>\n",
       "      <td>-0.463959</td>\n",
       "      <td>0.167907</td>\n",
       "      <td>-0.480068</td>\n",
       "      <td>0.652090</td>\n",
       "      <td>0.380880</td>\n",
       "      <td>0.433195</td>\n",
       "      <td>-0.662455</td>\n",
       "      <td>-0.222850</td>\n",
       "    </tr>\n",
       "    <tr>\n",
       "      <th>364043</th>\n",
       "      <td>-0.136932</td>\n",
       "      <td>-0.995471</td>\n",
       "      <td>0.991298</td>\n",
       "      <td>0.031871</td>\n",
       "      <td>-0.915622</td>\n",
       "      <td>-0.658517</td>\n",
       "      <td>0.633090</td>\n",
       "      <td>-0.564356</td>\n",
       "      <td>0.676551</td>\n",
       "      <td>-0.446068</td>\n",
       "      <td>...</td>\n",
       "      <td>-0.681986</td>\n",
       "      <td>-0.574185</td>\n",
       "      <td>-0.536908</td>\n",
       "      <td>0.688934</td>\n",
       "      <td>0.528204</td>\n",
       "      <td>0.162435</td>\n",
       "      <td>0.940364</td>\n",
       "      <td>0.989298</td>\n",
       "      <td>-0.761595</td>\n",
       "      <td>-0.414652</td>\n",
       "    </tr>\n",
       "    <tr>\n",
       "      <th>364044</th>\n",
       "      <td>-0.251390</td>\n",
       "      <td>-0.976243</td>\n",
       "      <td>0.586097</td>\n",
       "      <td>0.643631</td>\n",
       "      <td>-0.663359</td>\n",
       "      <td>-0.093480</td>\n",
       "      <td>0.691553</td>\n",
       "      <td>-0.588281</td>\n",
       "      <td>0.902999</td>\n",
       "      <td>0.124571</td>\n",
       "      <td>...</td>\n",
       "      <td>-0.162220</td>\n",
       "      <td>-0.242030</td>\n",
       "      <td>-0.476131</td>\n",
       "      <td>0.352132</td>\n",
       "      <td>-0.311279</td>\n",
       "      <td>0.460574</td>\n",
       "      <td>-0.653077</td>\n",
       "      <td>-0.143725</td>\n",
       "      <td>0.068093</td>\n",
       "      <td>-0.705010</td>\n",
       "    </tr>\n",
       "    <tr>\n",
       "      <th>364045</th>\n",
       "      <td>0.224342</td>\n",
       "      <td>-0.923288</td>\n",
       "      <td>-0.381742</td>\n",
       "      <td>0.687890</td>\n",
       "      <td>-0.773911</td>\n",
       "      <td>-0.103629</td>\n",
       "      <td>-0.406486</td>\n",
       "      <td>0.246004</td>\n",
       "      <td>0.255191</td>\n",
       "      <td>-0.329587</td>\n",
       "      <td>...</td>\n",
       "      <td>-0.422999</td>\n",
       "      <td>0.390324</td>\n",
       "      <td>0.655911</td>\n",
       "      <td>-0.646753</td>\n",
       "      <td>-0.174031</td>\n",
       "      <td>0.698037</td>\n",
       "      <td>-0.317102</td>\n",
       "      <td>0.687132</td>\n",
       "      <td>-0.531512</td>\n",
       "      <td>0.010726</td>\n",
       "    </tr>\n",
       "    <tr>\n",
       "      <th>364046</th>\n",
       "      <td>-0.257134</td>\n",
       "      <td>-0.994631</td>\n",
       "      <td>0.983792</td>\n",
       "      <td>-0.190975</td>\n",
       "      <td>-0.953720</td>\n",
       "      <td>-0.893823</td>\n",
       "      <td>0.708974</td>\n",
       "      <td>-0.557027</td>\n",
       "      <td>0.846842</td>\n",
       "      <td>-0.118519</td>\n",
       "      <td>...</td>\n",
       "      <td>-0.490481</td>\n",
       "      <td>-0.689666</td>\n",
       "      <td>-0.661846</td>\n",
       "      <td>0.490945</td>\n",
       "      <td>0.736525</td>\n",
       "      <td>0.667668</td>\n",
       "      <td>0.902130</td>\n",
       "      <td>0.983873</td>\n",
       "      <td>-0.838183</td>\n",
       "      <td>-0.179283</td>\n",
       "    </tr>\n",
       "  </tbody>\n",
       "</table>\n",
       "<p>5 rows × 250 columns</p>\n",
       "</div>"
      ],
      "text/plain": [
       "             0         1         2         3         4         5         6    \\\n",
       "364042 -0.055038 -0.962136  0.869436 -0.071523 -0.725294  0.434320  0.198312   \n",
       "364043 -0.136932 -0.995471  0.991298  0.031871 -0.915622 -0.658517  0.633090   \n",
       "364044 -0.251390 -0.976243  0.586097  0.643631 -0.663359 -0.093480  0.691553   \n",
       "364045  0.224342 -0.923288 -0.381742  0.687890 -0.773911 -0.103629 -0.406486   \n",
       "364046 -0.257134 -0.994631  0.983792 -0.190975 -0.953720 -0.893823  0.708974   \n",
       "\n",
       "             7         8         9    ...       240       241       242  \\\n",
       "364042 -0.581154  0.702346 -0.124813  ... -0.410549  0.564252 -0.463959   \n",
       "364043 -0.564356  0.676551 -0.446068  ... -0.681986 -0.574185 -0.536908   \n",
       "364044 -0.588281  0.902999  0.124571  ... -0.162220 -0.242030 -0.476131   \n",
       "364045  0.246004  0.255191 -0.329587  ... -0.422999  0.390324  0.655911   \n",
       "364046 -0.557027  0.846842 -0.118519  ... -0.490481 -0.689666 -0.661846   \n",
       "\n",
       "             243       244       245       246       247       248       249  \n",
       "364042  0.167907 -0.480068  0.652090  0.380880  0.433195 -0.662455 -0.222850  \n",
       "364043  0.688934  0.528204  0.162435  0.940364  0.989298 -0.761595 -0.414652  \n",
       "364044  0.352132 -0.311279  0.460574 -0.653077 -0.143725  0.068093 -0.705010  \n",
       "364045 -0.646753 -0.174031  0.698037 -0.317102  0.687132 -0.531512  0.010726  \n",
       "364046  0.490945  0.736525  0.667668  0.902130  0.983873 -0.838183 -0.179283  \n",
       "\n",
       "[5 rows x 250 columns]"
      ]
     },
     "metadata": {},
     "output_type": "display_data"
    },
    {
     "name": "stdout",
     "output_type": "stream",
     "text": [
      "\n",
      "###### Nombre de valeurs uniques ######\n",
      "\n"
     ]
    },
    {
     "data": {
      "text/html": [
       "<div>\n",
       "<style scoped>\n",
       "    .dataframe tbody tr th:only-of-type {\n",
       "        vertical-align: middle;\n",
       "    }\n",
       "\n",
       "    .dataframe tbody tr th {\n",
       "        vertical-align: top;\n",
       "    }\n",
       "\n",
       "    .dataframe thead th {\n",
       "        text-align: right;\n",
       "    }\n",
       "</style>\n",
       "<table border=\"1\" class=\"dataframe\">\n",
       "  <thead>\n",
       "    <tr style=\"text-align: right;\">\n",
       "      <th></th>\n",
       "      <th>0</th>\n",
       "      <th>1</th>\n",
       "      <th>2</th>\n",
       "      <th>3</th>\n",
       "      <th>4</th>\n",
       "      <th>5</th>\n",
       "      <th>6</th>\n",
       "      <th>7</th>\n",
       "      <th>8</th>\n",
       "      <th>9</th>\n",
       "      <th>...</th>\n",
       "      <th>240</th>\n",
       "      <th>241</th>\n",
       "      <th>242</th>\n",
       "      <th>243</th>\n",
       "      <th>244</th>\n",
       "      <th>245</th>\n",
       "      <th>246</th>\n",
       "      <th>247</th>\n",
       "      <th>248</th>\n",
       "      <th>249</th>\n",
       "    </tr>\n",
       "  </thead>\n",
       "  <tbody>\n",
       "    <tr>\n",
       "      <th>0</th>\n",
       "      <td>359463</td>\n",
       "      <td>277948</td>\n",
       "      <td>359896</td>\n",
       "      <td>358944</td>\n",
       "      <td>359878</td>\n",
       "      <td>360053</td>\n",
       "      <td>359599</td>\n",
       "      <td>359624</td>\n",
       "      <td>359981</td>\n",
       "      <td>359988</td>\n",
       "      <td>...</td>\n",
       "      <td>359756</td>\n",
       "      <td>360201</td>\n",
       "      <td>359803</td>\n",
       "      <td>359868</td>\n",
       "      <td>360064</td>\n",
       "      <td>359880</td>\n",
       "      <td>360128</td>\n",
       "      <td>359838</td>\n",
       "      <td>359706</td>\n",
       "      <td>359892</td>\n",
       "    </tr>\n",
       "  </tbody>\n",
       "</table>\n",
       "<p>1 rows × 250 columns</p>\n",
       "</div>"
      ],
      "text/plain": [
       "      0       1       2       3       4       5       6       7       8    \\\n",
       "0  359463  277948  359896  358944  359878  360053  359599  359624  359981   \n",
       "\n",
       "      9    ...     240     241     242     243     244     245     246  \\\n",
       "0  359988  ...  359756  360201  359803  359868  360064  359880  360128   \n",
       "\n",
       "      247     248     249  \n",
       "0  359838  359706  359892  \n",
       "\n",
       "[1 rows x 250 columns]"
      ]
     },
     "metadata": {},
     "output_type": "display_data"
    },
    {
     "name": "stdout",
     "output_type": "stream",
     "text": [
      "\n",
      "###### Doublons génériques (toutes les variables sont utilisées) ######\n",
      "\n"
     ]
    },
    {
     "data": {
      "text/plain": [
       "np.int64(2370)"
      ]
     },
     "metadata": {},
     "output_type": "display_data"
    },
    {
     "name": "stdout",
     "output_type": "stream",
     "text": [
      "\n",
      "###### Doublons sans l'index ######\n",
      "\n"
     ]
    },
    {
     "data": {
      "text/plain": [
       "np.int64(2370)"
      ]
     },
     "metadata": {},
     "output_type": "display_data"
    },
    {
     "name": "stdout",
     "output_type": "stream",
     "text": [
      "\n",
      "###### Informations du taux de remplissage ######\n",
      "\n"
     ]
    },
    {
     "data": {
      "image/png": "[encoded data removed]",
      "text/plain": [
       "<Figure size 2500x500 with 1 Axes>"
      ]
     },
     "metadata": {},
     "output_type": "display_data"
    }
   ],
   "source": [
    "analyse_exploratoire_generique(df_embedding_articles, enable_analyse_outlier=False)"
   ]
  },
  {
   "cell_type": "markdown",
   "metadata": {},
   "source": [
    "## Analyses"
   ]
  },
  {
   "cell_type": "markdown",
   "metadata": {},
   "source": [
    "### Analyses univariés"
   ]
  },
  {
   "cell_type": "markdown",
   "metadata": {},
   "source": [
    "#### Nombre d'utilisateurs"
   ]
  },
  {
   "cell_type": "code",
   "execution_count": 13,
   "metadata": {},
   "outputs": [
    {
     "name": "stdout",
     "output_type": "stream",
     "text": [
      "Il y a 322897 utilisateurs uniques\n"
     ]
    }
   ],
   "source": [
    "nb_user = df_full[\"user_id\"].nunique()\n",
    "print(f\"Il y a {nb_user} utilisateurs uniques\")"
   ]
  },
  {
   "cell_type": "markdown",
   "metadata": {},
   "source": [
    "#### Nombres d'articles unique cliqués"
   ]
  },
  {
   "cell_type": "code",
   "execution_count": 14,
   "metadata": {},
   "outputs": [
    {
     "name": "stdout",
     "output_type": "stream",
     "text": [
      "Il y a 46033 articles unique cliqués\n"
     ]
    }
   ],
   "source": [
    "nb_articles = df_full[\"click_article_id\"].nunique()\n",
    "print(f\"Il y a {nb_articles} articles unique cliqués\")"
   ]
  },
  {
   "cell_type": "markdown",
   "metadata": {},
   "source": [
    "#### Période entre le premier et le dernier clique"
   ]
  },
  {
   "cell_type": "code",
   "execution_count": 15,
   "metadata": {},
   "outputs": [
    {
     "name": "stdout",
     "output_type": "stream",
     "text": [
      "La date du premier clique est : 2017-10-01 03:00:00.026000\n",
      "La date du dernier clique est : 2017-11-13 20:04:14.886000\n",
      "Soit une période de 43 days 17:04:14.860000\n"
     ]
    }
   ],
   "source": [
    "first_click = min(df_full[\"click_timestamp\"])\n",
    "last_click = max(df_full[\"click_timestamp\"])\n",
    "\n",
    "date_first_click = pd.to_datetime(first_click, unit=\"ms\")\n",
    "date_last_click = pd.to_datetime(last_click, unit=\"ms\")\n",
    "\n",
    "days_between_first_and_last_click = date_last_click - date_first_click\n",
    "\n",
    "print(f\"La date du premier clique est : {date_first_click}\")\n",
    "print(f\"La date du dernier clique est : {date_last_click}\")\n",
    "print(f\"Soit une période de {days_between_first_and_last_click}\")"
   ]
  },
  {
   "cell_type": "markdown",
   "metadata": {},
   "source": [
    "#### Période entre le premier et le dernier article"
   ]
  },
  {
   "cell_type": "code",
   "execution_count": 16,
   "metadata": {},
   "outputs": [
    {
     "name": "stdout",
     "output_type": "stream",
     "text": [
      "La date du premier article est : 2006-12-20 00:00:00\n",
      "La date du dernier article est : 2017-11-14 13:26:54\n"
     ]
    }
   ],
   "source": [
    "first_article = min(df_full[\"created_at_ts\"])\n",
    "last_article = max(df_full[\"created_at_ts\"])\n",
    "\n",
    "date_first_article = pd.to_datetime(first_article, unit=\"ms\")\n",
    "date_last_article = pd.to_datetime(last_article, unit=\"ms\")\n",
    "\n",
    "print(f\"La date du premier article est : {date_first_article}\")\n",
    "print(f\"La date du dernier article est : {date_last_article}\")"
   ]
  },
  {
   "cell_type": "markdown",
   "metadata": {},
   "source": [
    "### Analyses des interactions"
   ]
  },
  {
   "cell_type": "markdown",
   "metadata": {},
   "source": [
    "#### Distribution de nombre de cliques par utilisateur"
   ]
  },
  {
   "cell_type": "code",
   "execution_count": 17,
   "metadata": {},
   "outputs": [
    {
     "data": {
      "text/plain": [
       "2      101428\n",
       "4       38432\n",
       "3       22660\n",
       "6       20370\n",
       "5       18070\n",
       "        ...  \n",
       "327         1\n",
       "783         1\n",
       "260         1\n",
       "362         1\n",
       "212         1\n",
       "Name: count, Length: 302, dtype: int64"
      ]
     },
     "execution_count": 17,
     "metadata": {},
     "output_type": "execute_result"
    }
   ],
   "source": [
    "nb_clicks_per_user = df_full.groupby(\"user_id\").size()\n",
    "click_distribution = nb_clicks_per_user.value_counts().sort_values(ascending=False)\n",
    "click_distribution"
   ]
  },
  {
   "cell_type": "code",
   "execution_count": 18,
   "metadata": {},
   "outputs": [
    {
     "data": {
      "image/png": "[encoded data removed]",
      "text/plain": [
       "<Figure size 500x500 with 1 Axes>"
      ]
     },
     "metadata": {},
     "output_type": "display_data"
    }
   ],
   "source": [
    "tops_click_distribution = click_distribution.head(9)\n",
    "tops_click_distribution[\"Autres\"] = click_distribution[9:].sum()\n",
    "tops_click_distribution.plot(kind=\"pie\", autopct=\"%1.1f%%\", figsize=(5, 5), title=\"Répartition du nombre de cliques par utilisateur\")\n",
    "plt.show()"
   ]
  },
  {
   "cell_type": "markdown",
   "metadata": {},
   "source": [
    "Il y a donc presque 75% d'utilisateurs ayant fait 10 cliques ou moins pour la période, nous avons donc affaire à une forte présence de nouveaux clients ou de clients occasionnels."
   ]
  },
  {
   "cell_type": "markdown",
   "metadata": {},
   "source": [
    "#### Distribution du nombre de cliques par articles"
   ]
  },
  {
   "cell_type": "code",
   "execution_count": 19,
   "metadata": {},
   "outputs": [],
   "source": [
    "nb_clicked_per_article = df_full.groupby(\"click_article_id\")[\"user_id\"].count().sort_values(ascending=False)"
   ]
  },
  {
   "cell_type": "code",
   "execution_count": 20,
   "metadata": {},
   "outputs": [
    {
     "data": {
      "text/plain": [
       "nombre de cliques\n",
       "1        24811\n",
       "2         4682\n",
       "3         2129\n",
       "4         1315\n",
       "5          990\n",
       "         ...  \n",
       "20303        1\n",
       "21062        1\n",
       "21577        1\n",
       "21855        1\n",
       "23122        1\n",
       "Name: count, Length: 1185, dtype: int64"
      ]
     },
     "execution_count": 20,
     "metadata": {},
     "output_type": "execute_result"
    }
   ],
   "source": [
    "nb_clicked_per_article_count = nb_clicked_per_article.value_counts()\n",
    "nb_clicked_per_article_count.index.name = \"nombre de cliques\"\n",
    "nb_clicked_per_article_count"
   ]
  },
  {
   "cell_type": "code",
   "execution_count": 21,
   "metadata": {},
   "outputs": [
    {
     "data": {
      "image/png": "[encoded data removed]",
      "text/plain": [
       "<Figure size 500x500 with 1 Axes>"
      ]
     },
     "metadata": {},
     "output_type": "display_data"
    }
   ],
   "source": [
    "tops_nb_clicked_per_article_distribution = nb_clicked_per_article_count[:9]\n",
    "tops_nb_clicked_per_article_distribution[\"Autres\"] = nb_clicked_per_article_count[9:].sum()\n",
    "tops_nb_clicked_per_article_distribution.plot(kind=\"pie\", autopct=\"%1.1f%%\", figsize=(5, 5), title=\"Répartition du nombre de cliques par articles\") \n",
    "plt.show()"
   ]
  },
  {
   "cell_type": "markdown",
   "metadata": {},
   "source": [
    "Un très grand nombre d'articles n'a été consulté qu'une seule fois, et une bonne partie d'articles ont été seulement consulté 9 fois au maximum pour la période donnée. La présence d'un grand nombre d'articles non populaires est par conséquent constatée."
   ]
  },
  {
   "cell_type": "markdown",
   "metadata": {},
   "source": [
    "#### Les 10 articles les plus populaires"
   ]
  },
  {
   "cell_type": "code",
   "execution_count": 22,
   "metadata": {},
   "outputs": [
    {
     "data": {
      "text/html": [
       "<div>\n",
       "<style scoped>\n",
       "    .dataframe tbody tr th:only-of-type {\n",
       "        vertical-align: middle;\n",
       "    }\n",
       "\n",
       "    .dataframe tbody tr th {\n",
       "        vertical-align: top;\n",
       "    }\n",
       "\n",
       "    .dataframe thead th {\n",
       "        text-align: right;\n",
       "    }\n",
       "</style>\n",
       "<table border=\"1\" class=\"dataframe\">\n",
       "  <thead>\n",
       "    <tr style=\"text-align: right;\">\n",
       "      <th></th>\n",
       "      <th>click_article_id</th>\n",
       "      <th>nombre de cliques</th>\n",
       "      <th>en pourcentage</th>\n",
       "    </tr>\n",
       "  </thead>\n",
       "  <tbody>\n",
       "    <tr>\n",
       "      <th>0</th>\n",
       "      <td>160974</td>\n",
       "      <td>37213</td>\n",
       "      <td>1.2453</td>\n",
       "    </tr>\n",
       "    <tr>\n",
       "      <th>1</th>\n",
       "      <td>272143</td>\n",
       "      <td>28943</td>\n",
       "      <td>0.9686</td>\n",
       "    </tr>\n",
       "    <tr>\n",
       "      <th>2</th>\n",
       "      <td>336221</td>\n",
       "      <td>23851</td>\n",
       "      <td>0.7982</td>\n",
       "    </tr>\n",
       "    <tr>\n",
       "      <th>3</th>\n",
       "      <td>234698</td>\n",
       "      <td>23499</td>\n",
       "      <td>0.7864</td>\n",
       "    </tr>\n",
       "    <tr>\n",
       "      <th>4</th>\n",
       "      <td>123909</td>\n",
       "      <td>23122</td>\n",
       "      <td>0.7738</td>\n",
       "    </tr>\n",
       "    <tr>\n",
       "      <th>5</th>\n",
       "      <td>336223</td>\n",
       "      <td>21855</td>\n",
       "      <td>0.7314</td>\n",
       "    </tr>\n",
       "    <tr>\n",
       "      <th>6</th>\n",
       "      <td>96210</td>\n",
       "      <td>21577</td>\n",
       "      <td>0.7221</td>\n",
       "    </tr>\n",
       "    <tr>\n",
       "      <th>7</th>\n",
       "      <td>162655</td>\n",
       "      <td>21062</td>\n",
       "      <td>0.7048</td>\n",
       "    </tr>\n",
       "    <tr>\n",
       "      <th>8</th>\n",
       "      <td>183176</td>\n",
       "      <td>20303</td>\n",
       "      <td>0.6794</td>\n",
       "    </tr>\n",
       "    <tr>\n",
       "      <th>9</th>\n",
       "      <td>168623</td>\n",
       "      <td>19526</td>\n",
       "      <td>0.6534</td>\n",
       "    </tr>\n",
       "  </tbody>\n",
       "</table>\n",
       "</div>"
      ],
      "text/plain": [
       "   click_article_id  nombre de cliques  en pourcentage\n",
       "0            160974              37213          1.2453\n",
       "1            272143              28943          0.9686\n",
       "2            336221              23851          0.7982\n",
       "3            234698              23499          0.7864\n",
       "4            123909              23122          0.7738\n",
       "5            336223              21855          0.7314\n",
       "6             96210              21577          0.7221\n",
       "7            162655              21062          0.7048\n",
       "8            183176              20303          0.6794\n",
       "9            168623              19526          0.6534"
      ]
     },
     "execution_count": 22,
     "metadata": {},
     "output_type": "execute_result"
    }
   ],
   "source": [
    "most_popular_articles = pd.DataFrame(nb_clicked_per_article.head(10)).reset_index()\n",
    "most_popular_articles = most_popular_articles.rename(columns={\"user_id\": \"nombre de cliques\"})\n",
    "most_popular_articles[\"en pourcentage\"] = most_popular_articles[\"nombre de cliques\"].apply(lambda x : round(x/nb_clicked_per_article.sum()*100, 4))\n",
    "most_popular_articles"
   ]
  },
  {
   "cell_type": "markdown",
   "metadata": {},
   "source": [
    "#### Temps en jours entre la création de l'article et le clique d'un utilisateur"
   ]
  },
  {
   "cell_type": "code",
   "execution_count": 23,
   "metadata": {},
   "outputs": [],
   "source": [
    "ages_days = (df_full[\"click_timestamp\"] - df_full[\"created_at_ts\"]) / 1000 / 86400\n",
    "ages_days = ages_days.astype(int)\n",
    "count_ages_days = ages_days.value_counts()"
   ]
  },
  {
   "cell_type": "code",
   "execution_count": 24,
   "metadata": {},
   "outputs": [
    {
     "data": {
      "text/plain": [
       "count    2.988181e+06\n",
       "mean     8.012232e+00\n",
       "std      8.172807e+01\n",
       "min     -2.200000e+01\n",
       "25%      0.000000e+00\n",
       "50%      0.000000e+00\n",
       "75%      0.000000e+00\n",
       "max      3.940000e+03\n",
       "dtype: float64"
      ]
     },
     "execution_count": 24,
     "metadata": {},
     "output_type": "execute_result"
    }
   ],
   "source": [
    "ages_days.describe()"
   ]
  },
  {
   "cell_type": "code",
   "execution_count": 25,
   "metadata": {},
   "outputs": [
    {
     "data": {
      "text/plain": [
       "0       2619049\n",
       "1        239132\n",
       "2         27093\n",
       "3         12415\n",
       "4          7354\n",
       "         ...   \n",
       "1851          1\n",
       "3703          1\n",
       "2121          1\n",
       "2468          1\n",
       "1693          1\n",
       "Name: count, Length: 1809, dtype: int64"
      ]
     },
     "execution_count": 25,
     "metadata": {},
     "output_type": "execute_result"
    }
   ],
   "source": [
    "count_ages_days"
   ]
  },
  {
   "cell_type": "code",
   "execution_count": 26,
   "metadata": {},
   "outputs": [
    {
     "data": {
      "image/png": "[encoded data removed]",
      "text/plain": [
       "<Figure size 500x500 with 1 Axes>"
      ]
     },
     "metadata": {},
     "output_type": "display_data"
    }
   ],
   "source": [
    "tops_count_ages = count_ages_days[:9]\n",
    "tops_count_ages[\"Autres\"] = count_ages_days[9:].sum()\n",
    "tops_count_ages.plot(kind=\"pie\", autopct=\"%1.1f%%\", figsize=(5, 5), title=\"Répartition du nombre de jours entre le moment de la création de l'article et le clique de l'article\")\n",
    "plt.show()"
   ]
  },
  {
   "cell_type": "markdown",
   "metadata": {},
   "source": [
    "Cette analyse mis en évidence un intérêt important pour les nouveaux articles, puisque que la très grande majorité des cliques se font en quelques heures après la création de l'article."
   ]
  },
  {
   "cell_type": "markdown",
   "metadata": {},
   "source": [
    "#### Couverture des articles"
   ]
  },
  {
   "cell_type": "code",
   "execution_count": 27,
   "metadata": {},
   "outputs": [
    {
     "name": "stdout",
     "output_type": "stream",
     "text": [
      "12.64 % d'articles ont été cliqués\n"
     ]
    }
   ],
   "source": [
    "couverture_articles = round(len(nb_clicked_per_article) / len(df_embedding_articles) *100, 2)\n",
    "print(f\"{couverture_articles} % d'articles ont été cliqués\")"
   ]
  },
  {
   "cell_type": "markdown",
   "metadata": {},
   "source": [
    "Cette faible couverture d'articles consultés pour la période renforce l'importance de l'âge des articles, les anciens articles sont peu, voire pas du tout consultés."
   ]
  },
  {
   "cell_type": "markdown",
   "metadata": {},
   "source": [
    "### Performances des différentes recommandations"
   ]
  },
  {
   "cell_type": "markdown",
   "metadata": {},
   "source": [
    "#### Taille des fichiers des datasets"
   ]
  },
  {
   "cell_type": "code",
   "execution_count": 28,
   "metadata": {},
   "outputs": [
    {
     "name": "stdout",
     "output_type": "stream",
     "text": [
      "Taille du fichier articles_embeddings.pickle : 347.18 Mo\n",
      "Taille du fichier clicks_hour_concatenated : 213.16 Mo\n"
     ]
    }
   ],
   "source": [
    "conversion = 1024*1024\n",
    "mem_articles_embeddings = os.path.getsize(DATASETS_PATH + \"articles_embeddings.pickle\") / conversion\n",
    "mem_clicks_hour_concatenated = os.path.getsize(DATASETS_PATH + \"clicks_hour_concatenated.csv\") / conversion\n",
    "\n",
    "print(f\"Taille du fichier articles_embeddings.pickle : {mem_articles_embeddings:.2f} Mo\")\n",
    "print(f\"Taille du fichier clicks_hour_concatenated : {mem_clicks_hour_concatenated:.2f} Mo\")\n"
   ]
  },
  {
   "cell_type": "markdown",
   "metadata": {},
   "source": [
    "Ces deux fichiers ont une taille de fichiers assez conséquents, il serait probablement nécessaire d'opter une solution de réduction de mémoire"
   ]
  },
  {
   "cell_type": "markdown",
   "metadata": {},
   "source": [
    "#### 1ère version non optimisée"
   ]
  },
  {
   "cell_type": "markdown",
   "metadata": {},
   "source": [
    "##### Temps exécution"
   ]
  },
  {
   "cell_type": "markdown",
   "metadata": {},
   "source": [
    "###### most_popular"
   ]
  },
  {
   "cell_type": "code",
   "execution_count": 29,
   "metadata": {},
   "outputs": [
    {
     "name": "stdout",
     "output_type": "stream",
     "text": [
      "CPU times: total: 15.6 ms\n",
      "Wall time: 22.5 ms\n"
     ]
    },
    {
     "data": {
      "text/plain": [
       "click_article_id\n",
       "160974    37213\n",
       "272143    28943\n",
       "336221    23851\n",
       "234698    23499\n",
       "123909    23122\n",
       "Name: count, dtype: int64"
      ]
     },
     "execution_count": 29,
     "metadata": {},
     "output_type": "execute_result"
    }
   ],
   "source": [
    "%%time\n",
    "\n",
    "recommender.most_popular_articles(df_clicks_hour)"
   ]
  },
  {
   "cell_type": "markdown",
   "metadata": {},
   "source": [
    "###### best_cosine_similar"
   ]
  },
  {
   "cell_type": "code",
   "execution_count": 30,
   "metadata": {},
   "outputs": [
    {
     "name": "stdout",
     "output_type": "stream",
     "text": [
      "CPU times: total: 219 ms\n",
      "Wall time: 369 ms\n"
     ]
    },
    {
     "data": {
      "text/plain": [
       "160765    0.814084\n",
       "149976    0.798555\n",
       "149529    0.794770\n",
       "161846    0.791991\n",
       "162714    0.791854\n",
       "dtype: float32"
      ]
     },
     "execution_count": 30,
     "metadata": {},
     "output_type": "execute_result"
    }
   ],
   "source": [
    "%%time\n",
    "\n",
    "recommender.best_cosine_similar_articles_per_user(5, df_clicks_hour, df_embedding_articles)"
   ]
  },
  {
   "cell_type": "markdown",
   "metadata": {},
   "source": [
    "###### best_svds_preds"
   ]
  },
  {
   "cell_type": "code",
   "execution_count": 31,
   "metadata": {},
   "outputs": [
    {
     "name": "stdout",
     "output_type": "stream",
     "text": [
      "CPU times: total: 172 ms\n",
      "Wall time: 495 ms\n"
     ]
    },
    {
     "data": {
      "text/plain": [
       "click_article_id\n",
       "225010    0.132694\n",
       "207122    0.132480\n",
       "156381    0.128120\n",
       "160974    0.127953\n",
       "58619     0.126919\n",
       "Name: 24, dtype: float64"
      ]
     },
     "execution_count": 31,
     "metadata": {},
     "output_type": "execute_result"
    }
   ],
   "source": [
    "%%time\n",
    "\n",
    "recommender.best_preds_svds_user(24, df_clicks_hour)"
   ]
  },
  {
   "cell_type": "markdown",
   "metadata": {},
   "source": [
    "###### hybride"
   ]
  },
  {
   "cell_type": "code",
   "execution_count": 32,
   "metadata": {},
   "outputs": [
    {
     "name": "stdout",
     "output_type": "stream",
     "text": [
      "CPU times: total: 4.33 s\n",
      "Wall time: 10.8 s\n"
     ]
    },
    {
     "data": {
      "text/plain": [
       "('hybrid',\n",
       " click_article_id\n",
       " 158915    0.744148\n",
       " 207122    0.743986\n",
       " 157798    0.636029\n",
       " 156381    0.633296\n",
       " 208150    0.566667\n",
       " dtype: float64)"
      ]
     },
     "execution_count": 32,
     "metadata": {},
     "output_type": "execute_result"
    }
   ],
   "source": [
    "%%time\n",
    "\n",
    "recommender.hybrid_recommender(24, df_clicks_hour, df_embedding_articles)"
   ]
  },
  {
   "cell_type": "markdown",
   "metadata": {},
   "source": [
    "###### Conclusion"
   ]
  },
  {
   "cell_type": "markdown",
   "metadata": {},
   "source": [
    "Bien que la pulpart des systèmes de recommandations produisent un temps de calcul raisonnable, il y a deux éléments risquent de poser problèmes :\n",
    "\n",
    "1) ce sont des fonctions qui nécessitent la lecture des deux fichiers : clicks_hour et articles_embeddings, et comme nous avons pu constater, ils sont assez volumineux. Cela risque de poser problème avec l'architecutre function azure/blob storage qui nécessite le téléchargement des fichiers à chaque appel, donc environ 550 mo par appel.\n",
    "2) Azure functions est un service azure et non un serveur, par conséquent, plus une fonction utilise des ressources, plus elle est coûteuse, ce qui est problématique pour les fonctions non optimisées, surtout celle de hybride qui prend 10 secondes pour un seul appel !\n",
    "\n",
    "Il est donc nécessaire d'opter à des techniques de réductions de taille et d'optimisations."
   ]
  },
  {
   "cell_type": "markdown",
   "metadata": {},
   "source": [
    "#### 2ème version, avec optimisation"
   ]
  },
  {
   "cell_type": "markdown",
   "metadata": {},
   "source": [
    "##### Préparation des fichiers nécessaires"
   ]
  },
  {
   "cell_type": "markdown",
   "metadata": {},
   "source": [
    "###### Dataset Articles embeddings"
   ]
  },
  {
   "cell_type": "markdown",
   "metadata": {},
   "source": [
    "Nous avons constaté que la couverture des articles est assez faible, un grand nombre d'articles n'intéressent pas donc, par conséquent, on élimine les articles superflus, et on applique une réduction de dimension par PCA afin de réduire encore plus la taille"
   ]
  },
  {
   "cell_type": "code",
   "execution_count": 33,
   "metadata": {},
   "outputs": [],
   "source": [
    "if os.path.isfile(PCA_REDUCTED_ARTICLES_EMBEDDINGS_PATH):\n",
    "    # Récupère le dataset si déjà enregistré\n",
    "    df_pca_reducted_articles_embeddings = pd.read_pickle(PCA_REDUCTED_ARTICLES_EMBEDDINGS_PATH)\n",
    "else:\n",
    "    # Obtenir le dataset réduit\n",
    "    df_pca_reducted_articles_embeddings = prepare_files.pca_reduct_articles_embeddings(df_embedding_articles, df_clicks_hour)\n",
    "    df_pca_reducted_articles_embeddings.to_pickle(PCA_REDUCTED_ARTICLES_EMBEDDINGS_PATH)"
   ]
  },
  {
   "cell_type": "code",
   "execution_count": 34,
   "metadata": {},
   "outputs": [
    {
     "name": "stdout",
     "output_type": "stream",
     "text": [
      "Taille du fichier réduit : 9.48 Mo\n"
     ]
    }
   ],
   "source": [
    "mem_pca_reducted_articles_embeddings = os.path.getsize(PCA_REDUCTED_ARTICLES_EMBEDDINGS_PATH) / conversion\n",
    "print(f\"Taille du fichier réduit : {mem_pca_reducted_articles_embeddings:.2f} Mo\")"
   ]
  },
  {
   "cell_type": "markdown",
   "metadata": {},
   "source": [
    "###### Dataset clicks_hour"
   ]
  },
  {
   "cell_type": "markdown",
   "metadata": {},
   "source": [
    "Le dataset clicks_hour contient de nombreuses données inutilisées, ce qui entraîne un gaspillage de ressources.\n",
    "Il est donc pertinent de créer un dataset synthétisant les informations les plus importantes, à savoir :\n",
    "\n",
    "- L’identifiant de l’utilisateur\n",
    "- Le nombre de clics effectués par l’utilisateur\n",
    "- Le dernier article consulté par l’utilisateur"
   ]
  },
  {
   "cell_type": "code",
   "execution_count": 35,
   "metadata": {},
   "outputs": [],
   "source": [
    "df_clicks_essentials_informations = prepare_files.clicks_essentials_informations(df_clicks_hour)\n",
    "df_clicks_essentials_informations.to_pickle(CLICKS_ESSENTIALS_INFORMATIONS_PATH)"
   ]
  },
  {
   "cell_type": "code",
   "execution_count": 36,
   "metadata": {},
   "outputs": [
    {
     "name": "stdout",
     "output_type": "stream",
     "text": [
      "Taille du fichier : 7.39 Mo\n"
     ]
    }
   ],
   "source": [
    "mem_clicks_essentials_informations = os.path.getsize(CLICKS_ESSENTIALS_INFORMATIONS_PATH) / conversion\n",
    "print(f\"Taille du fichier : {mem_clicks_essentials_informations:.2f} Mo\")"
   ]
  },
  {
   "cell_type": "markdown",
   "metadata": {},
   "source": [
    "###### Dataset SVDS"
   ]
  },
  {
   "cell_type": "markdown",
   "metadata": {},
   "source": [
    "La recommandations type collaborative Filtering utilise SVDS pour produire les prédictions des articles recommandés, et pour qu'elle soit utilisable, il est nécessaire qu'on calcule tous les interactions utilisateurs-articles, cela pose donc deux problèmes suivants :\n",
    "\n",
    "1) si à chaque appel, on doit recalculer le svds (qui est assez coûteux en ressources), cela devient donc très redondant et assez gourmand en ressources, il est donc préférable de ne le calculer qu'une seule fois et de lire le résultat à chaque fois qu'on fait appel à la collaborative filtering.\n",
    "Ensuite de décider une mise à jour périodique.\n",
    "2) le nombre de cellules pour un SVDS est un produit, et dans ce projet, on a 322897 utilisateurs * 46033 articles consultés, ce qui fait exactement ... 14 863 917 601, soit 14 milliards de données, ce qui n'est pas possible bien évidemment.\n",
    "Il est donc nécessaire de limiter les utilisateurs et les articles afin de ne conserver que les données les plus intéressantes, soit les utilisateurs les plus actifs et les articles les plus populaires\n",
    "Arbitrairement, un filtre a été appliqué : seuls les utilisateurs ayant au moins de 10 cliques, et les articles ayant été cliqués d'au moins de 100 fois sont conservés."
   ]
  },
  {
   "cell_type": "code",
   "execution_count": 37,
   "metadata": {},
   "outputs": [],
   "source": [
    "df_svds = prepare_files.preds_svds_user(df_clicks_hour)\n",
    "df_svds.to_pickle(SVDS_PATH)"
   ]
  },
  {
   "cell_type": "code",
   "execution_count": 38,
   "metadata": {},
   "outputs": [
    {
     "name": "stdout",
     "output_type": "stream",
     "text": [
      "Dimensions de SVDS : (1138, 8832)\n",
      "Le dataset SVDS contient : 10050816 cellules\n"
     ]
    }
   ],
   "source": [
    "print(f\"Dimensions de SVDS : {df_svds.shape}\")\n",
    "print(f\"Le dataset SVDS contient : {df_svds.shape[0] * df_svds.shape[1]} cellules\")"
   ]
  },
  {
   "cell_type": "code",
   "execution_count": 39,
   "metadata": {},
   "outputs": [
    {
     "name": "stdout",
     "output_type": "stream",
     "text": [
      "Taille du fichier : 76.76 Mo\n"
     ]
    }
   ],
   "source": [
    "mem_svds = os.path.getsize(SVDS_PATH) / conversion\n",
    "print(f\"Taille du fichier : {mem_svds:.2f} Mo\")"
   ]
  },
  {
   "cell_type": "markdown",
   "metadata": {},
   "source": [
    "###### Dataset Hybride "
   ]
  },
  {
   "cell_type": "markdown",
   "metadata": {},
   "source": [
    "##### Test d'exécutions de fonctions"
   ]
  },
  {
   "cell_type": "markdown",
   "metadata": {},
   "source": [
    "Exécution de la recommandation avec le dataset embeddings articles réduits."
   ]
  },
  {
   "cell_type": "code",
   "execution_count": 40,
   "metadata": {},
   "outputs": [
    {
     "name": "stdout",
     "output_type": "stream",
     "text": [
      "CPU times: total: 672 ms\n",
      "Wall time: 1.72 s\n"
     ]
    },
    {
     "data": {
      "text/plain": [
       "('hybrid',\n",
       " click_article_id\n",
       " 158915    0.746287\n",
       " 207122    0.732210\n",
       " 157798    0.631904\n",
       " 156381    0.603642\n",
       " 208150    0.552364\n",
       " dtype: float64)"
      ]
     },
     "execution_count": 40,
     "metadata": {},
     "output_type": "execute_result"
    }
   ],
   "source": [
    "%%time\n",
    "\n",
    "recommender.hybrid_recommender(24, df_clicks_hour, df_pca_reducted_articles_embeddings)"
   ]
  },
  {
   "cell_type": "markdown",
   "metadata": {},
   "source": [
    "La différence est flagarente, presque 10 fois plus rapide"
   ]
  },
  {
   "cell_type": "markdown",
   "metadata": {},
   "source": [
    "Exécution de la recommandation avec la version rapide (en utilisant des datasets précalculés)"
   ]
  },
  {
   "cell_type": "code",
   "execution_count": 41,
   "metadata": {},
   "outputs": [],
   "source": [
    "# Génère et crée un fichier most_popular_articles\n",
    "df_most_popular_articles = prepare_files.most_popular_articles(df_clicks_hour)\n",
    "df_most_popular_articles.to_pickle(MOST_POPULAR_ARTICLES_PATH)"
   ]
  },
  {
   "cell_type": "code",
   "execution_count": 42,
   "metadata": {},
   "outputs": [
    {
     "name": "stdout",
     "output_type": "stream",
     "text": [
      "CPU times: total: 0 ns\n",
      "Wall time: 4 ms\n"
     ]
    },
    {
     "data": {
      "text/plain": [
       "('most_popular',\n",
       " click_article_id\n",
       " 160974    37213\n",
       " 272143    28943\n",
       " 336221    23851\n",
       " 234698    23499\n",
       " 123909    23122\n",
       " Name: count, dtype: int64)"
      ]
     },
     "execution_count": 42,
     "metadata": {},
     "output_type": "execute_result"
    }
   ],
   "source": [
    "%%time\n",
    "\n",
    "recommender.fast_hybrid_recommender(-1, df_most_popular_articles, df_clicks_essentials_informations, df_svds, df_pca_reducted_articles_embeddings)"
   ]
  },
  {
   "cell_type": "code",
   "execution_count": 43,
   "metadata": {},
   "outputs": [
    {
     "name": "stdout",
     "output_type": "stream",
     "text": [
      "CPU times: total: 0 ns\n",
      "Wall time: 24.5 ms\n"
     ]
    },
    {
     "data": {
      "text/plain": [
       "('content based filtering',\n",
       " 38187     0.772347\n",
       " 156332    0.748798\n",
       " 157315    0.746521\n",
       " 83890     0.738626\n",
       " 153323    0.734223\n",
       " dtype: float32)"
      ]
     },
     "execution_count": 43,
     "metadata": {},
     "output_type": "execute_result"
    }
   ],
   "source": [
    "%%time\n",
    "\n",
    "recommender.fast_hybrid_recommender(5, df_most_popular_articles, df_clicks_essentials_informations, df_svds, df_pca_reducted_articles_embeddings)"
   ]
  },
  {
   "cell_type": "markdown",
   "metadata": {},
   "source": [
    "Le content based filtering est quasi instanté !"
   ]
  },
  {
   "cell_type": "code",
   "execution_count": 44,
   "metadata": {},
   "outputs": [
    {
     "name": "stdout",
     "output_type": "stream",
     "text": [
      "CPU times: total: 547 ms\n",
      "Wall time: 1.2 s\n"
     ]
    },
    {
     "data": {
      "text/plain": [
       "('hybrid',\n",
       " click_article_id\n",
       " 158915    0.746287\n",
       " 207122    0.732210\n",
       " 157798    0.631904\n",
       " 156381    0.603642\n",
       " 208150    0.552364\n",
       " dtype: float64)"
      ]
     },
     "execution_count": 44,
     "metadata": {},
     "output_type": "execute_result"
    }
   ],
   "source": [
    "%%time\n",
    "\n",
    "recommender.fast_hybrid_recommender(24, df_most_popular_articles, df_clicks_essentials_informations, df_svds, df_pca_reducted_articles_embeddings)"
   ]
  },
  {
   "cell_type": "markdown",
   "metadata": {},
   "source": [
    "Même s'il n'y a pas une vraie grande différence entre cette fonction de recommandation et celle sans les datasets pré calculés, cette fonction reste tout de même 2 fois plus rapide au niveau de calcul CPU, ce qui constitue une bonne économie en ressources.\n",
    "Sans oublier que les datasets précalculés occupent une espace mémoire bien plus légère"
   ]
  }
 ],
 "metadata": {
  "kernelspec": {
   "display_name": ".venv",
   "language": "python",
   "name": "python3"
  },
  "language_info": {
   "codemirror_mode": {
    "name": "ipython",
    "version": 3
   },
   "file_extension": ".py",
   "mimetype": "text/x-python",
   "name": "python",
   "nbconvert_exporter": "python",
   "pygments_lexer": "ipython3",
   "version": "3.12.2"
  }
 },
 "nbformat": 4,
 "nbformat_minor": 2
}

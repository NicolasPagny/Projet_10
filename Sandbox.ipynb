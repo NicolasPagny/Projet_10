{
 "cells": [
  {
   "cell_type": "markdown",
   "metadata": {},
   "source": [
    "# I - Importations"
   ]
  },
  {
   "cell_type": "code",
   "execution_count": 1,
   "metadata": {},
   "outputs": [
    {
     "data": {
      "text/plain": [
       "<module 'recommander' from 'd:\\\\Formations\\\\Github\\\\Projet_10\\\\recommander.py'>"
      ]
     },
     "execution_count": 1,
     "metadata": {},
     "output_type": "execute_result"
    }
   ],
   "source": [
    "import os\n",
    "import numpy as np\n",
    "import pickle\n",
    "import pandas as pd\n",
    "import matplotlib.pyplot as plt\n",
    "import matplotlib.patches as mpatches\n",
    "import seaborn as sns\n",
    "\n",
    "from sklearn.metrics.pairwise import cosine_similarity\n",
    "from scipy.sparse import csr_matrix\n",
    "from scipy.sparse.linalg import svds\n",
    "\n",
    "import recommander\n",
    "import importlib\n",
    "importlib.reload(recommander)"
   ]
  },
  {
   "cell_type": "markdown",
   "metadata": {},
   "source": [
    "# Constantes"
   ]
  },
  {
   "cell_type": "code",
   "execution_count": 2,
   "metadata": {},
   "outputs": [],
   "source": [
    "DATASETS_PATH = \"datasets/\"\n",
    "ARTICLES_METADATA_PATH = DATASETS_PATH + \"articles_metadata.csv\"\n",
    "CLICKS_PATH = DATASETS_PATH + \"clicks/\"\n",
    "CLICKS_HOUR_CONCATENATED_PATH = DATASETS_PATH + \"clicks_hour_concatenated.csv\""
   ]
  },
  {
   "cell_type": "markdown",
   "metadata": {},
   "source": [
    "# Fonctions"
   ]
  },
  {
   "cell_type": "code",
   "execution_count": 3,
   "metadata": {},
   "outputs": [],
   "source": [
    "def perc_fill_rate(datas: pd.DataFrame)-> float:\n",
    "    \"\"\"Calculer le taux de remplissage\n",
    "    \n",
    "    Parameters:\n",
    "    datas: Dataframe dont le taux de remplissage est à calculer\n",
    "\n",
    "    Returns:\n",
    "    float: taux de remplissage calculé\n",
    "    \"\"\"\n",
    "\n",
    "    return 100 - datas.isna().sum() / len(datas) * 100\n",
    "\n",
    "def make_title(texte:str):\n",
    "    \"\"\"Ecrit tout simplement un ###### texte #####\n",
    "    Cette fonction a été crée pour éviter de répéter les mêmes écritures de print\n",
    "\n",
    "    Parameters:\n",
    "    texte -- Texte à afficher\n",
    "    \"\"\"\n",
    "\n",
    "    print(\"\\n###### \" + texte + \" ######\\n\")\n",
    "\n",
    "def make_plot_dtypes(datas:pd.DataFrame):\n",
    "    \"\"\"Crée un camembert de répartition de types utilisés de la dataframe\n",
    "    \n",
    "    Parameters:\n",
    "    datas: Dataframe dont on veut calculer la répartition des types utilisées\n",
    "    \"\"\"\n",
    "\n",
    "    print(datas.dtypes.value_counts())\n",
    "    plt.figure(figsize=(10,5))\n",
    "    plt.pie(datas.dtypes.value_counts().values,autopct=\"%1.2f%%\",labels=[str(types) for types in datas.dtypes.value_counts().index])\n",
    "    plt.title(\"Répartition des types dans le jeu de données.\")\n",
    "    plt.ylabel(\"Type des données\")\n",
    "    plt.legend()\n",
    "    plt.show()\n",
    "\n",
    "def make_perc_missing_values_info(datas:pd.DataFrame, perc_missing_values_threshold: int = 50) -> sns.barplot:\n",
    "    \"\"\"Fonction qui affiche un diagramme en barres contenant le taux de remplissage pour chaque variable de la dataframe\n",
    "    \n",
    "    Parameters:\n",
    "    datas: Dataframe dont on désire afficher le taux de remplissage sous forme d'un diagramme en barres\n",
    "    perc_missing_values_threshold: Le seuil du pourcentage qui indique si une variable est exploitable ou non (par défaut : 50)\n",
    "    \n",
    "    Returns:\n",
    "    sns.barplot: contient l'objet de barplot\n",
    "    \"\"\"\n",
    "\n",
    "    # Calcul du taux de remplissage\n",
    "    perc_fill_rate_datas = perc_fill_rate(datas)\n",
    "    perc_fill_rate_datas = perc_fill_rate_datas.sort_values(ascending=False)\n",
    "\n",
    "    # Définition de la palette de couleurs en fonction du taux de remplissage\n",
    "    palette = [\"red\" if p < perc_missing_values_threshold else \"orange\" if p < 100 else \"green\" for p in perc_fill_rate_datas.values]\n",
    "\n",
    "    display(perc_fill_rate_datas.index)\n",
    "    display(perc_fill_rate_datas.values)\n",
    "\n",
    "    # Création d'un grpahique à barres pour le taux de remplissage\n",
    "    plt.figure(figsize=(25,5))\n",
    "    sns.barplot(x=perc_fill_rate_datas.index, y=perc_fill_rate_datas.values, hue=perc_fill_rate_datas.index, palette=palette)\n",
    "    plt.ylabel(\"Taux de remplissage\")\n",
    "    plt.xlabel(\"Variables\")\n",
    "    plt.xticks(rotation=90)\n",
    "    plt.title(\"Taux de remplissage du fichier\")\n",
    "\n",
    "    # Mise en place d'une ligne rouge marquant le seuil décidé %\n",
    "    line_seuil = plt.axhline(y=perc_missing_values_threshold, color=\"red\", linestyle=\"--\", label=\"seuil \" + str(perc_missing_values_threshold) + \"%\")\n",
    "\n",
    "    # Création et paramétrage des légendes à afficher\n",
    "    red_patch = mpatches.Patch(color=\"red\", label=\"< \" + str(perc_missing_values_threshold) + \"%\")\n",
    "    orange_patch = mpatches.Patch(color=\"orange\", label= \"\" + str(perc_missing_values_threshold) + \"-]100%\")\n",
    "    green_patch = mpatches.Patch(color='green', label='100%')\n",
    "    plt.legend(handles=[line_seuil, red_patch, orange_patch, green_patch], title='Taux de remplissage', loc='upper right')\n",
    "    plt.show()\n",
    "\n",
    "    # Afficher une dataframe sur le taux de remplissage des variables\n",
    "    var_with_missing_values = perc_fill_rate_datas.loc[perc_fill_rate_datas < 100].to_frame()\n",
    "    var_with_missing_values = var_with_missing_values.reset_index()\n",
    "    var_with_missing_values = var_with_missing_values.rename(columns={\"index\": \"Variable\", 0: \"% Taux remplissage\"})\n",
    "    display(var_with_missing_values)\n",
    "\n",
    "def analyse_outlier(df: pd.DataFrame):\n",
    "    \"\"\"Analyse affiche un boxplot de chaque variable numérique afin d'analyser les outliers\n",
    "    \n",
    "    Parameters:\n",
    "    df: la dataframe dont on veut analyser les outliers\n",
    "    \"\"\"\n",
    "\n",
    "    # Ne sélectionner que les variables numériques\n",
    "    quantitatives = df.select_dtypes(include=[\"number\"])\n",
    "\n",
    "    make_title(\"Statistiques descriptives\")\n",
    "    display(quantitatives.describe())\n",
    "\n",
    "    # Afficher les boxplots de chaque variable\n",
    "    nb_var = len(quantitatives.columns)\n",
    "    nb_cols = 5\n",
    "    nb_rows = int(nb_var/nb_cols) + 1\n",
    "    fig, axes = plt.subplots(nb_rows, nb_cols, figsize=(25, nb_rows * 5))\n",
    "    for i, var in enumerate(quantitatives.columns):\n",
    "        if nb_rows > 1:\n",
    "            ax = axes[i // nb_cols, i % nb_cols]\n",
    "        else:\n",
    "            ax = axes[i // nb_cols]\n",
    "        sns.boxplot(x=quantitatives[var], ax=ax)\n",
    "\n",
    "    # Supprime les emplacements non utilisés\n",
    "    for i in range(nb_var, nb_rows * nb_cols):\n",
    "        fig.delaxes(axes.flatten()[i])\n",
    "\n",
    "    make_title(\"Boxplots des variables\")\n",
    "    plt.show()\n",
    "    \n",
    "def analyse_exploratoire_generique(datas: pd.DataFrame, perc_missing_values_threshold: int = 50, nb_index: int = 1):\n",
    "    \"\"\"Effectue une analyse exploratoire générique\n",
    "\n",
    "    Parameters:\n",
    "    datas: la dataframe sur laquelle on veut effectuer une analyse exploratoire générique\n",
    "    perc_missing_values_threshold: Le seuil du pourcentage de valeur manquant qui indique si une variable est exploitable ou non (par défaut: 50)\n",
    "    nb_index: index de début d'analyse de doublons, utilisé pour analyser les doublons en dehors des index\n",
    "    \"\"\"\n",
    "\n",
    "    # Présenter les informations générales\n",
    "    make_title(\"Informations générales\")\n",
    "    datas.info()\n",
    "\n",
    "    # Afficher la répartition des types dans le jeu de données\n",
    "    make_title(\"Répartition des types dans le dataset\")\n",
    "    make_plot_dtypes(datas)\n",
    "\n",
    "\n",
    "    # Afficher les 5 premières et derniè_res lignes du DataFrame\n",
    "    make_title(\"Les 5 premières et dernières lignes\")\n",
    "    head = datas.head()\n",
    "    tail = datas.tail()\n",
    "    display(head, tail)\n",
    "\n",
    "    # Afficher le nombre de valeurs uniques\n",
    "    make_title(\"Nombre de valeurs uniques\")\n",
    "    display(datas.nunique().to_frame().T)\n",
    "\n",
    "    # Afficher le nombre des doublons génériques\n",
    "    make_title(\"Doublons génériques (toutes les variables sont utilisées)\")\n",
    "    display(datas.duplicated().sum())\n",
    "\n",
    "    # Afficher le nombre des doublons sans l'index\n",
    "    make_title(\"Doublons sans l'index\")\n",
    "    display(datas[datas.columns[nb_index:]].duplicated().sum())\n",
    "\n",
    "    # Afficher les informations sur le taux de remplissage \n",
    "    make_title(\"Informations du taux de remplissage\")\n",
    "    make_perc_missing_values_info(datas, perc_missing_values_threshold)\n",
    "\n",
    "    # Afficher les analyses des variables numériques \n",
    "    analyse_outlier(datas)"
   ]
  },
  {
   "cell_type": "code",
   "execution_count": 4,
   "metadata": {},
   "outputs": [],
   "source": [
    "def get_clicked_articles_user(user_id: int, clicks: pd.DataFrame):\n",
    "    \"\"\"obtenir les articles cliqués par un utilisateur donné\n",
    "    \n",
    "    Parameters:\n",
    "    user_id: l'identifiant de l'utilisateur\n",
    "    clicks: la dataframe contenant les clics\n",
    "    \"\"\"\n",
    "\n",
    "    # Sélectionner les articles cliqués par l'utilisateur\n",
    "    articles_user = clicks[clicks[\"user_id\"] == user_id]\n",
    "    articles_user = articles_user[[\"click_article_id\", \"click_timestamp\"]]\n",
    "\n",
    "    return articles_user"
   ]
  },
  {
   "cell_type": "code",
   "execution_count": 5,
   "metadata": {},
   "outputs": [],
   "source": [
    "def get_last_clicked_articles_user(user_id: int, clicks: pd.DataFrame):\n",
    "    \"\"\"Obtenir le dernier article cliqué par un utilisateur\n",
    "\n",
    "    Parameters:\n",
    "    user_id: l'identifiant de l'utilisateur\n",
    "    clicks: la dataframe contenant les clics\n",
    "    \"\"\"\n",
    "\n",
    "    articles_user = get_clicked_articles_user(user_id, clicks)\n",
    "    last_article = articles_user[articles_user[\"click_timestamp\"] == articles_user[\"click_timestamp\"].max()]\n",
    "\n",
    "    return last_article\n",
    " "
   ]
  },
  {
   "cell_type": "code",
   "execution_count": 6,
   "metadata": {},
   "outputs": [],
   "source": [
    "def cosine_similarity(vector1, vector2):\n",
    "    \"\"\"Calculer la similarité cosinus entre les articles\n",
    "    \"\"\"\n",
    "\n",
    "    similarity = np.dot(vector1, vector2) / (np.linalg.norm(vector1) * np.linalg.norm(vector2))\n",
    "    return similarity"
   ]
  },
  {
   "cell_type": "code",
   "execution_count": 7,
   "metadata": {},
   "outputs": [],
   "source": [
    "def five_most_similar_articles(article_id, articles_embeddings):\n",
    "    \"\"\"Trouver les 5 articles les plus similaires à un article donné\n",
    "    \"\"\"\n",
    "\n",
    "    article_embedding = articles_embeddings[article_id]\n",
    "    similarities = {}\n",
    "    for id, embedding in enumerate(articles_embeddings):\n",
    "        similarities[id] = cosine_similarity(article_embedding, embedding)\n",
    "    similarities = sorted(similarities.items(), key=lambda x: x[1], reverse=True)\n",
    "    return similarities[1:6]"
   ]
  },
  {
   "cell_type": "markdown",
   "metadata": {},
   "source": [
    "# Corps"
   ]
  },
  {
   "cell_type": "markdown",
   "metadata": {},
   "source": [
    "## Lecture des datasets"
   ]
  },
  {
   "cell_type": "code",
   "execution_count": 8,
   "metadata": {},
   "outputs": [],
   "source": [
    "df_articles = pd.read_csv(ARTICLES_METADATA_PATH)"
   ]
  },
  {
   "cell_type": "code",
   "execution_count": 9,
   "metadata": {},
   "outputs": [],
   "source": [
    "if os.path.isfile(CLICKS_HOUR_CONCATENATED_PATH):\n",
    "    df_clicks_hour = pd.read_csv(CLICKS_HOUR_CONCATENATED_PATH)\n",
    "else:\n",
    "    df_clicks_hour = pd.DataFrame()\n",
    "\n",
    "    clicks_hour_files = os.listdir(CLICKS_PATH)\n",
    "    for file in clicks_hour_files:\n",
    "        df_clicks_hour = pd.concat([df_clicks_hour, pd.read_csv(CLICKS_PATH + file)], ignore_index=True)\n",
    "    \n",
    "    df_clicks_hour.to_csv(CLICKS_HOUR_CONCATENATED_PATH, index=False)"
   ]
  },
  {
   "cell_type": "code",
   "execution_count": 75,
   "metadata": {},
   "outputs": [],
   "source": [
    "with open(DATASETS_PATH + \"articles_embeddings.pickle\", \"rb\") as f:\n",
    "    np_embedding_articles = pickle.load(f)\n"
   ]
  },
  {
   "cell_type": "markdown",
   "metadata": {},
   "source": [
    "# TEST"
   ]
  },
  {
   "cell_type": "code",
   "execution_count": 11,
   "metadata": {},
   "outputs": [
    {
     "data": {
      "text/plain": [
       "click_article_id\n",
       "160974    37213\n",
       "272143    28943\n",
       "336221    23851\n",
       "234698    23499\n",
       "123909    23122\n",
       "336223    21855\n",
       "96210     21577\n",
       "162655    21062\n",
       "183176    20303\n",
       "168623    19526\n",
       "Name: count, dtype: int64"
      ]
     },
     "execution_count": 11,
     "metadata": {},
     "output_type": "execute_result"
    }
   ],
   "source": [
    "recommander.most_popular_articles(df_clicks_hour, 10)"
   ]
  },
  {
   "cell_type": "code",
   "execution_count": 16,
   "metadata": {},
   "outputs": [],
   "source": [
    "nb_clicks_ar = df_clicks_hour.groupby(\"click_article_id\").size().sort_values(ascending=False)"
   ]
  },
  {
   "cell_type": "code",
   "execution_count": 17,
   "metadata": {},
   "outputs": [],
   "source": [
    "nb_clicks_us = df_clicks_hour.groupby(\"user_id\").size().sort_values(ascending=False)"
   ]
  },
  {
   "cell_type": "code",
   "execution_count": 33,
   "metadata": {},
   "outputs": [],
   "source": [
    "ar_pas = [nb_clicks_ar[nb_clicks_ar > pas].size for pas in range(0, int(nb_clicks_ar.size / 5), 5)]\n",
    "us_pas = [nb_clicks_us[nb_clicks_us > pas].size for pas in range(10, int(nb_clicks_us.size / 5), 5)]"
   ]
  },
  {
   "cell_type": "code",
   "execution_count": 34,
   "metadata": {},
   "outputs": [],
   "source": [
    "resultat = np.outer(ar_pas, us_pas)"
   ]
  },
  {
   "cell_type": "code",
   "execution_count": 35,
   "metadata": {},
   "outputs": [],
   "source": [
    "target = 100000000\n",
    "ecarts = np.abs(resultat - target)\n",
    "indice_min = np.unravel_index(np.argmin(ecarts, axis=None), ecarts.shape)\n",
    "\n",
    "valeur_proche = resultat[indice_min]\n",
    "indice_ar = indice_min[0]\n",
    "indice_us = indice_min[1]"
   ]
  },
  {
   "cell_type": "code",
   "execution_count": 37,
   "metadata": {},
   "outputs": [
    {
     "name": "stdout",
     "output_type": "stream",
     "text": [
      "99628099\n",
      "270\n",
      "10\n"
     ]
    }
   ],
   "source": [
    "print(valeur_proche)\n",
    "print(indice_ar * 5)\n",
    "print(indice_us * 5 + 10)"
   ]
  },
  {
   "cell_type": "code",
   "execution_count": 38,
   "metadata": {},
   "outputs": [
    {
     "data": {
      "text/plain": [
       "1289"
      ]
     },
     "execution_count": 38,
     "metadata": {},
     "output_type": "execute_result"
    }
   ],
   "source": [
    "nb_clicks_ar[nb_clicks_ar > 270].size"
   ]
  },
  {
   "cell_type": "code",
   "execution_count": 39,
   "metadata": {},
   "outputs": [
    {
     "data": {
      "text/plain": [
       "77291"
      ]
     },
     "execution_count": 39,
     "metadata": {},
     "output_type": "execute_result"
    }
   ],
   "source": [
    "nb_clicks_us[nb_clicks_us > 10].size"
   ]
  },
  {
   "cell_type": "code",
   "execution_count": 40,
   "metadata": {},
   "outputs": [],
   "source": [
    "test_limit_ar  = nb_clicks_ar[nb_clicks_ar > 270]\n",
    "test_limit_us = nb_clicks_us[nb_clicks_us > 10]"
   ]
  },
  {
   "cell_type": "code",
   "execution_count": 65,
   "metadata": {},
   "outputs": [
    {
     "data": {
      "text/plain": [
       "31748"
      ]
     },
     "execution_count": 65,
     "metadata": {},
     "output_type": "execute_result"
    }
   ],
   "source": [
    "df_clicks_hour[df_clicks_hour[\"user_id\"].isin(test_limit_us.index)][\"click_article_id\"].nunique()"
   ]
  },
  {
   "cell_type": "code",
   "execution_count": 41,
   "metadata": {},
   "outputs": [],
   "source": [
    "limited_articles = df_clicks_hour[df_clicks_hour[\"click_article_id\"].isin(test_limit_ar.index) & df_clicks_hour[\"user_id\"].isin(test_limit_us.index)]"
   ]
  },
  {
   "cell_type": "code",
   "execution_count": 44,
   "metadata": {},
   "outputs": [
    {
     "data": {
      "text/plain": [
       "{5: click_article_id\n",
       " 2647      0.202054\n",
       " 3394      0.201917\n",
       " 4907      0.202269\n",
       " 5252      0.202343\n",
       " 5292      0.203952\n",
       "             ...   \n",
       " 362322    0.203057\n",
       " 362914    0.202396\n",
       " 363173    0.202519\n",
       " 363910    0.203542\n",
       " 363916    0.203769\n",
       " Name: 5, Length: 1289, dtype: float64}"
      ]
     },
     "execution_count": 44,
     "metadata": {},
     "output_type": "execute_result"
    }
   ],
   "source": [
    "importlib.reload(recommander)\n",
    "recommander.preds_svds_users([5], limited_articles, 15)"
   ]
  },
  {
   "cell_type": "code",
   "execution_count": 67,
   "metadata": {},
   "outputs": [
    {
     "data": {
      "text/plain": [
       "1289"
      ]
     },
     "execution_count": 67,
     "metadata": {},
     "output_type": "execute_result"
    }
   ],
   "source": [
    "limited_articles[\"click_article_id\"].nunique()"
   ]
  },
  {
   "cell_type": "code",
   "execution_count": 76,
   "metadata": {},
   "outputs": [],
   "source": [
    "limited_embedding_articles = df_embedding_articles[df_embedding_articles.index.isin(limited_articles[\"click_article_id\"].unique())]"
   ]
  },
  {
   "cell_type": "code",
   "execution_count": 101,
   "metadata": {},
   "outputs": [
    {
     "ename": "ValueError",
     "evalue": "too many values to unpack (expected 2)",
     "output_type": "error",
     "traceback": [
      "\u001b[1;31m---------------------------------------------------------------------------\u001b[0m",
      "\u001b[1;31mValueError\u001b[0m                                Traceback (most recent call last)",
      "Cell \u001b[1;32mIn[101], line 2\u001b[0m\n\u001b[0;32m      1\u001b[0m importlib\u001b[38;5;241m.\u001b[39mreload(recommander)\n\u001b[1;32m----> 2\u001b[0m cb \u001b[38;5;241m=\u001b[39m \u001b[43mrecommander\u001b[49m\u001b[38;5;241;43m.\u001b[39;49m\u001b[43mbest_cosine_similar_articles_per_user\u001b[49m\u001b[43m(\u001b[49m\u001b[43m[\u001b[49m\u001b[38;5;241;43m5\u001b[39;49m\u001b[43m]\u001b[49m\u001b[43m,\u001b[49m\u001b[43m \u001b[49m\u001b[43mlimited_articles\u001b[49m\u001b[43m,\u001b[49m\u001b[43m \u001b[49m\u001b[43mdf_embedding_articles\u001b[49m\u001b[43m)\u001b[49m\n",
      "File \u001b[1;32md:\\Formations\\Github\\Projet_10\\recommander.py:233\u001b[0m, in \u001b[0;36mbest_cosine_similar_articles_per_user\u001b[1;34m(users_id, clicks, articles_embeddings, n)\u001b[0m\n\u001b[0;32m    231\u001b[0m \u001b[38;5;28;01mfor\u001b[39;00m \u001b[38;5;28mid\u001b[39m \u001b[38;5;129;01min\u001b[39;00m users_id:\n\u001b[0;32m    232\u001b[0m     article_id \u001b[38;5;241m=\u001b[39m _last_clicked_articles_user(\u001b[38;5;28mid\u001b[39m, clicks)[\u001b[38;5;124m\"\u001b[39m\u001b[38;5;124mclick_article_id\u001b[39m\u001b[38;5;124m\"\u001b[39m]\n\u001b[1;32m--> 233\u001b[0m     similar_articles \u001b[38;5;241m=\u001b[39m \u001b[43m_best_cosine_similar_articles\u001b[49m\u001b[43m(\u001b[49m\u001b[43marticle_id\u001b[49m\u001b[43m,\u001b[49m\u001b[43m \u001b[49m\u001b[43marticles_embeddings\u001b[49m\u001b[43m,\u001b[49m\u001b[43m \u001b[49m\u001b[43mn\u001b[49m\u001b[43m)\u001b[49m\n\u001b[0;32m    234\u001b[0m     users[\u001b[38;5;28mid\u001b[39m] \u001b[38;5;241m=\u001b[39m pd\u001b[38;5;241m.\u001b[39mSeries(\n\u001b[0;32m    235\u001b[0m         {article_id: score \u001b[38;5;28;01mfor\u001b[39;00m article_id, score \u001b[38;5;129;01min\u001b[39;00m similar_articles}, name\u001b[38;5;241m=\u001b[39m\u001b[38;5;28mid\u001b[39m\n\u001b[0;32m    236\u001b[0m     )\n\u001b[0;32m    238\u001b[0m \u001b[38;5;28;01mreturn\u001b[39;00m users\n",
      "File \u001b[1;32md:\\Formations\\Github\\Projet_10\\recommander.py:80\u001b[0m, in \u001b[0;36m_best_cosine_similar_articles\u001b[1;34m(article_id, articles_embeddings, n)\u001b[0m\n\u001b[0;32m     71\u001b[0m \u001b[38;5;28;01mdef\u001b[39;00m \u001b[38;5;21m_best_cosine_similar_articles\u001b[39m(article_id, articles_embeddings, n: \u001b[38;5;28mint\u001b[39m \u001b[38;5;241m=\u001b[39m \u001b[38;5;28;01mNone\u001b[39;00m):\n\u001b[0;32m     72\u001b[0m \u001b[38;5;250m    \u001b[39m\u001b[38;5;124;03m\"\"\"Trouver les 5 articles les plus similaires à un article donné avec la cosinus similarité\u001b[39;00m\n\u001b[0;32m     73\u001b[0m \n\u001b[0;32m     74\u001b[0m \u001b[38;5;124;03m    Parameters:\u001b[39;00m\n\u001b[1;32m   (...)\u001b[0m\n\u001b[0;32m     77\u001b[0m \u001b[38;5;124;03m    n: le nombre d'articles similaires à retourner\u001b[39;00m\n\u001b[0;32m     78\u001b[0m \u001b[38;5;124;03m    \"\"\"\u001b[39;00m\n\u001b[1;32m---> 80\u001b[0m     similarities \u001b[38;5;241m=\u001b[39m \u001b[43m_cosine_similar_articles\u001b[49m\u001b[43m(\u001b[49m\u001b[43marticle_id\u001b[49m\u001b[43m,\u001b[49m\u001b[43m \u001b[49m\u001b[43marticles_embeddings\u001b[49m\u001b[43m)\u001b[49m\n\u001b[0;32m     81\u001b[0m     \u001b[38;5;28;01mif\u001b[39;00m n \u001b[38;5;129;01mis\u001b[39;00m \u001b[38;5;129;01mnot\u001b[39;00m \u001b[38;5;28;01mNone\u001b[39;00m:\n\u001b[0;32m     82\u001b[0m         similarities \u001b[38;5;241m=\u001b[39m \u001b[38;5;28msorted\u001b[39m(similarities, key\u001b[38;5;241m=\u001b[39m\u001b[38;5;28;01mlambda\u001b[39;00m x: x[\u001b[38;5;241m1\u001b[39m], reverse\u001b[38;5;241m=\u001b[39m\u001b[38;5;28;01mTrue\u001b[39;00m)\n",
      "File \u001b[1;32md:\\Formations\\Github\\Projet_10\\recommander.py:67\u001b[0m, in \u001b[0;36m_cosine_similar_articles\u001b[1;34m(article_id, articles_embeddings)\u001b[0m\n\u001b[0;32m     65\u001b[0m article_embedding \u001b[38;5;241m=\u001b[39m articles_embeddings\u001b[38;5;241m.\u001b[39miloc[article_id\u001b[38;5;241m.\u001b[39mvalues]\n\u001b[0;32m     66\u001b[0m similarities \u001b[38;5;241m=\u001b[39m {}\n\u001b[1;32m---> 67\u001b[0m \u001b[38;5;28;01mfor\u001b[39;00m \u001b[38;5;28mid\u001b[39m, embedding \u001b[38;5;129;01min\u001b[39;00m articles_embeddings\u001b[38;5;241m.\u001b[39mitertuples(name\u001b[38;5;241m=\u001b[39m\u001b[38;5;28;01mNone\u001b[39;00m):\n\u001b[0;32m     68\u001b[0m     similarities[\u001b[38;5;28mid\u001b[39m] \u001b[38;5;241m=\u001b[39m _cosine_similarity(article_embedding, embedding)\n\u001b[0;32m     69\u001b[0m \u001b[38;5;28;01mreturn\u001b[39;00m similarities\u001b[38;5;241m.\u001b[39mitems()\n",
      "\u001b[1;31mValueError\u001b[0m: too many values to unpack (expected 2)"
     ]
    }
   ],
   "source": [
    "importlib.reload(recommander)\n",
    "cb = recommander.best_cosine_similar_articles_per_user([5], limited_articles, df_embedding_articles)"
   ]
  },
  {
   "cell_type": "code",
   "execution_count": 79,
   "metadata": {},
   "outputs": [
    {
     "ename": "KeyError",
     "evalue": "\"None of [Index([156279], dtype='int64')] are in the [columns]\"",
     "output_type": "error",
     "traceback": [
      "\u001b[1;31m---------------------------------------------------------------------------\u001b[0m",
      "\u001b[1;31mKeyError\u001b[0m                                  Traceback (most recent call last)",
      "Cell \u001b[1;32mIn[79], line 2\u001b[0m\n\u001b[0;32m      1\u001b[0m importlib\u001b[38;5;241m.\u001b[39mreload(recommander)\n\u001b[1;32m----> 2\u001b[0m cb, cf \u001b[38;5;241m=\u001b[39m \u001b[43mrecommander\u001b[49m\u001b[38;5;241;43m.\u001b[39;49m\u001b[43mhybrid_recommander\u001b[49m\u001b[43m(\u001b[49m\u001b[43m[\u001b[49m\u001b[38;5;241;43m5\u001b[39;49m\u001b[43m]\u001b[49m\u001b[43m,\u001b[49m\u001b[43m \u001b[49m\u001b[43mlimited_articles\u001b[49m\u001b[43m,\u001b[49m\u001b[43m \u001b[49m\u001b[43mlimited_embedding_articles\u001b[49m\u001b[43m,\u001b[49m\u001b[43m \u001b[49m\u001b[38;5;241;43m15\u001b[39;49m\u001b[43m)\u001b[49m\n",
      "File \u001b[1;32md:\\Formations\\Github\\Projet_10\\recommander.py:298\u001b[0m, in \u001b[0;36mhybrid_recommander\u001b[1;34m(users_id, clicks, articles_embeddings, n_factors)\u001b[0m\n\u001b[0;32m    287\u001b[0m \u001b[38;5;250m\u001b[39m\u001b[38;5;124;03m\"\"\"Recommander des articles à un utilisateur en utilisant une approche hybride\u001b[39;00m\n\u001b[0;32m    288\u001b[0m \u001b[38;5;124;03m\u001b[39;00m\n\u001b[0;32m    289\u001b[0m \u001b[38;5;124;03mParameters:\u001b[39;00m\n\u001b[1;32m   (...)\u001b[0m\n\u001b[0;32m    294\u001b[0m \u001b[38;5;124;03mn: le nombre d'articles à recommander\u001b[39;00m\n\u001b[0;32m    295\u001b[0m \u001b[38;5;124;03m\"\"\"\u001b[39;00m\n\u001b[0;32m    297\u001b[0m \u001b[38;5;66;03m# Obtenir les n articles les plus similaires pour chaque utilisateur (Content Based)\u001b[39;00m\n\u001b[1;32m--> 298\u001b[0m content_based_articles \u001b[38;5;241m=\u001b[39m \u001b[43mcosine_similar_articles_per_user\u001b[49m\u001b[43m(\u001b[49m\u001b[43musers_id\u001b[49m\u001b[43m,\u001b[49m\u001b[43m \u001b[49m\u001b[43mclicks\u001b[49m\u001b[43m,\u001b[49m\u001b[43m \u001b[49m\u001b[43marticles_embeddings\u001b[49m\u001b[43m)\u001b[49m\n\u001b[0;32m    300\u001b[0m \u001b[38;5;66;03m# Obtenir les n articles recommandés avec la factorisation de matrice SVD\u001b[39;00m\n\u001b[0;32m    301\u001b[0m collaborative_filtering_articles \u001b[38;5;241m=\u001b[39m preds_svds_users(users_id, clicks, n_factors)\n",
      "File \u001b[1;32md:\\Formations\\Github\\Projet_10\\recommander.py:213\u001b[0m, in \u001b[0;36mcosine_similar_articles_per_user\u001b[1;34m(users_id, clicks, articles_embeddings)\u001b[0m\n\u001b[0;32m    211\u001b[0m \u001b[38;5;28;01mfor\u001b[39;00m \u001b[38;5;28mid\u001b[39m \u001b[38;5;129;01min\u001b[39;00m users_id:\n\u001b[0;32m    212\u001b[0m     article_id \u001b[38;5;241m=\u001b[39m _last_clicked_articles_user(\u001b[38;5;28mid\u001b[39m, clicks)[\u001b[38;5;124m\"\u001b[39m\u001b[38;5;124mclick_article_id\u001b[39m\u001b[38;5;124m\"\u001b[39m]\n\u001b[1;32m--> 213\u001b[0m     similar_articles \u001b[38;5;241m=\u001b[39m \u001b[43m_cosine_similar_articles\u001b[49m\u001b[43m(\u001b[49m\u001b[43marticle_id\u001b[49m\u001b[43m,\u001b[49m\u001b[43m \u001b[49m\u001b[43marticles_embeddings\u001b[49m\u001b[43m)\u001b[49m\n\u001b[0;32m    214\u001b[0m     users[\u001b[38;5;28mid\u001b[39m] \u001b[38;5;241m=\u001b[39m pd\u001b[38;5;241m.\u001b[39mSeries(\n\u001b[0;32m    215\u001b[0m         {article_id: score \u001b[38;5;28;01mfor\u001b[39;00m article_id, score \u001b[38;5;129;01min\u001b[39;00m similar_articles}, name\u001b[38;5;241m=\u001b[39m\u001b[38;5;28mid\u001b[39m\n\u001b[0;32m    216\u001b[0m     )\n\u001b[0;32m    218\u001b[0m \u001b[38;5;28;01mreturn\u001b[39;00m users\n",
      "File \u001b[1;32md:\\Formations\\Github\\Projet_10\\recommander.py:65\u001b[0m, in \u001b[0;36m_cosine_similar_articles\u001b[1;34m(article_id, articles_embeddings)\u001b[0m\n\u001b[0;32m     57\u001b[0m \u001b[38;5;28;01mdef\u001b[39;00m \u001b[38;5;21m_cosine_similar_articles\u001b[39m(article_id, articles_embeddings):\n\u001b[0;32m     58\u001b[0m \u001b[38;5;250m    \u001b[39m\u001b[38;5;124;03m\"\"\"Trouver les articles les plus similaires à un article donné avec la cosinus similarité\u001b[39;00m\n\u001b[0;32m     59\u001b[0m \n\u001b[0;32m     60\u001b[0m \u001b[38;5;124;03m    Parameters:\u001b[39;00m\n\u001b[0;32m     61\u001b[0m \u001b[38;5;124;03m    article_id: l'identifiant de l'article\u001b[39;00m\n\u001b[0;32m     62\u001b[0m \u001b[38;5;124;03m    articles_embeddings: les embeddings des articles\u001b[39;00m\n\u001b[0;32m     63\u001b[0m \u001b[38;5;124;03m    \"\"\"\u001b[39;00m\n\u001b[1;32m---> 65\u001b[0m     article_embedding \u001b[38;5;241m=\u001b[39m \u001b[43marticles_embeddings\u001b[49m\u001b[43m[\u001b[49m\u001b[43marticle_id\u001b[49m\u001b[43m]\u001b[49m\u001b[38;5;241m.\u001b[39mravel()\n\u001b[0;32m     66\u001b[0m     similarities \u001b[38;5;241m=\u001b[39m {}\n\u001b[0;32m     67\u001b[0m     \u001b[38;5;28;01mfor\u001b[39;00m \u001b[38;5;28mid\u001b[39m, embedding \u001b[38;5;129;01min\u001b[39;00m \u001b[38;5;28menumerate\u001b[39m(articles_embeddings):\n",
      "File \u001b[1;32md:\\Formations\\Github\\Projet_10\\.venv\\Lib\\site-packages\\pandas\\core\\frame.py:4108\u001b[0m, in \u001b[0;36mDataFrame.__getitem__\u001b[1;34m(self, key)\u001b[0m\n\u001b[0;32m   4106\u001b[0m     \u001b[38;5;28;01mif\u001b[39;00m is_iterator(key):\n\u001b[0;32m   4107\u001b[0m         key \u001b[38;5;241m=\u001b[39m \u001b[38;5;28mlist\u001b[39m(key)\n\u001b[1;32m-> 4108\u001b[0m     indexer \u001b[38;5;241m=\u001b[39m \u001b[38;5;28;43mself\u001b[39;49m\u001b[38;5;241;43m.\u001b[39;49m\u001b[43mcolumns\u001b[49m\u001b[38;5;241;43m.\u001b[39;49m\u001b[43m_get_indexer_strict\u001b[49m\u001b[43m(\u001b[49m\u001b[43mkey\u001b[49m\u001b[43m,\u001b[49m\u001b[43m \u001b[49m\u001b[38;5;124;43m\"\u001b[39;49m\u001b[38;5;124;43mcolumns\u001b[39;49m\u001b[38;5;124;43m\"\u001b[39;49m\u001b[43m)\u001b[49m[\u001b[38;5;241m1\u001b[39m]\n\u001b[0;32m   4110\u001b[0m \u001b[38;5;66;03m# take() does not accept boolean indexers\u001b[39;00m\n\u001b[0;32m   4111\u001b[0m \u001b[38;5;28;01mif\u001b[39;00m \u001b[38;5;28mgetattr\u001b[39m(indexer, \u001b[38;5;124m\"\u001b[39m\u001b[38;5;124mdtype\u001b[39m\u001b[38;5;124m\"\u001b[39m, \u001b[38;5;28;01mNone\u001b[39;00m) \u001b[38;5;241m==\u001b[39m \u001b[38;5;28mbool\u001b[39m:\n",
      "File \u001b[1;32md:\\Formations\\Github\\Projet_10\\.venv\\Lib\\site-packages\\pandas\\core\\indexes\\base.py:6200\u001b[0m, in \u001b[0;36mIndex._get_indexer_strict\u001b[1;34m(self, key, axis_name)\u001b[0m\n\u001b[0;32m   6197\u001b[0m \u001b[38;5;28;01melse\u001b[39;00m:\n\u001b[0;32m   6198\u001b[0m     keyarr, indexer, new_indexer \u001b[38;5;241m=\u001b[39m \u001b[38;5;28mself\u001b[39m\u001b[38;5;241m.\u001b[39m_reindex_non_unique(keyarr)\n\u001b[1;32m-> 6200\u001b[0m \u001b[38;5;28;43mself\u001b[39;49m\u001b[38;5;241;43m.\u001b[39;49m\u001b[43m_raise_if_missing\u001b[49m\u001b[43m(\u001b[49m\u001b[43mkeyarr\u001b[49m\u001b[43m,\u001b[49m\u001b[43m \u001b[49m\u001b[43mindexer\u001b[49m\u001b[43m,\u001b[49m\u001b[43m \u001b[49m\u001b[43maxis_name\u001b[49m\u001b[43m)\u001b[49m\n\u001b[0;32m   6202\u001b[0m keyarr \u001b[38;5;241m=\u001b[39m \u001b[38;5;28mself\u001b[39m\u001b[38;5;241m.\u001b[39mtake(indexer)\n\u001b[0;32m   6203\u001b[0m \u001b[38;5;28;01mif\u001b[39;00m \u001b[38;5;28misinstance\u001b[39m(key, Index):\n\u001b[0;32m   6204\u001b[0m     \u001b[38;5;66;03m# GH 42790 - Preserve name from an Index\u001b[39;00m\n",
      "File \u001b[1;32md:\\Formations\\Github\\Projet_10\\.venv\\Lib\\site-packages\\pandas\\core\\indexes\\base.py:6249\u001b[0m, in \u001b[0;36mIndex._raise_if_missing\u001b[1;34m(self, key, indexer, axis_name)\u001b[0m\n\u001b[0;32m   6247\u001b[0m \u001b[38;5;28;01mif\u001b[39;00m nmissing:\n\u001b[0;32m   6248\u001b[0m     \u001b[38;5;28;01mif\u001b[39;00m nmissing \u001b[38;5;241m==\u001b[39m \u001b[38;5;28mlen\u001b[39m(indexer):\n\u001b[1;32m-> 6249\u001b[0m         \u001b[38;5;28;01mraise\u001b[39;00m \u001b[38;5;167;01mKeyError\u001b[39;00m(\u001b[38;5;124mf\u001b[39m\u001b[38;5;124m\"\u001b[39m\u001b[38;5;124mNone of [\u001b[39m\u001b[38;5;132;01m{\u001b[39;00mkey\u001b[38;5;132;01m}\u001b[39;00m\u001b[38;5;124m] are in the [\u001b[39m\u001b[38;5;132;01m{\u001b[39;00maxis_name\u001b[38;5;132;01m}\u001b[39;00m\u001b[38;5;124m]\u001b[39m\u001b[38;5;124m\"\u001b[39m)\n\u001b[0;32m   6251\u001b[0m     not_found \u001b[38;5;241m=\u001b[39m \u001b[38;5;28mlist\u001b[39m(ensure_index(key)[missing_mask\u001b[38;5;241m.\u001b[39mnonzero()[\u001b[38;5;241m0\u001b[39m]]\u001b[38;5;241m.\u001b[39munique())\n\u001b[0;32m   6252\u001b[0m     \u001b[38;5;28;01mraise\u001b[39;00m \u001b[38;5;167;01mKeyError\u001b[39;00m(\u001b[38;5;124mf\u001b[39m\u001b[38;5;124m\"\u001b[39m\u001b[38;5;132;01m{\u001b[39;00mnot_found\u001b[38;5;132;01m}\u001b[39;00m\u001b[38;5;124m not in index\u001b[39m\u001b[38;5;124m\"\u001b[39m)\n",
      "\u001b[1;31mKeyError\u001b[0m: \"None of [Index([156279], dtype='int64')] are in the [columns]\""
     ]
    }
   ],
   "source": [
    "importlib.reload(recommander)\n",
    "cb, cf = recommander.hybrid_recommander([5], limited_articles, limited_embedding_articles, 15)"
   ]
  },
  {
   "cell_type": "code",
   "execution_count": 53,
   "metadata": {},
   "outputs": [
    {
     "data": {
      "text/plain": [
       "{5: 0         0.071680\n",
       " 1         0.124555\n",
       " 2         0.321810\n",
       " 3         0.323689\n",
       " 4         0.213446\n",
       "             ...   \n",
       " 364042    0.101237\n",
       " 364043   -0.053844\n",
       " 364044    0.044008\n",
       " 364045    0.392420\n",
       " 364046    0.007159\n",
       " Name: 5, Length: 364047, dtype: float32}"
      ]
     },
     "execution_count": 53,
     "metadata": {},
     "output_type": "execute_result"
    }
   ],
   "source": [
    "cb"
   ]
  },
  {
   "cell_type": "code",
   "execution_count": 54,
   "metadata": {},
   "outputs": [
    {
     "data": {
      "text/plain": [
       "{5: click_article_id\n",
       " 2647      0.202054\n",
       " 3394      0.201917\n",
       " 4907      0.202269\n",
       " 5252      0.202343\n",
       " 5292      0.203952\n",
       "             ...   \n",
       " 362322    0.203057\n",
       " 362914    0.202396\n",
       " 363173    0.202519\n",
       " 363910    0.203542\n",
       " 363916    0.203769\n",
       " Name: 5, Length: 1289, dtype: float64}"
      ]
     },
     "execution_count": 54,
     "metadata": {},
     "output_type": "execute_result"
    }
   ],
   "source": [
    "cf"
   ]
  }
 ],
 "metadata": {
  "kernelspec": {
   "display_name": ".venv",
   "language": "python",
   "name": "python3"
  },
  "language_info": {
   "codemirror_mode": {
    "name": "ipython",
    "version": 3
   },
   "file_extension": ".py",
   "mimetype": "text/x-python",
   "name": "python",
   "nbconvert_exporter": "python",
   "pygments_lexer": "ipython3",
   "version": "3.12.2"
  }
 },
 "nbformat": 4,
 "nbformat_minor": 2
}
